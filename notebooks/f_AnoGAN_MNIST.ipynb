{
  "nbformat": 4,
  "nbformat_minor": 0,
  "metadata": {
    "colab": {
      "provenance": []
    },
    "kernelspec": {
      "name": "python3",
      "display_name": "Python 3"
    }
  },
  "cells": [
    {
      "cell_type": "markdown",
      "metadata": {
        "id": "LkXNoR7FqA2c"
      },
      "source": [
        "# f-AnoGAN for trainig the MNIST dataset"
      ]
    },
    {
      "cell_type": "markdown",
      "metadata": {
        "id": "2t2JocUOrkhr"
      },
      "source": [
        "### Step: 0"
      ]
    },
    {
      "cell_type": "markdown",
      "metadata": {
        "id": "jAMp5kY6rxsq"
      },
      "source": [
        " Please push \"Open in playground\" and run below in order."
      ]
    },
    {
      "cell_type": "code",
      "metadata": {
        "id": "vGxbyD01pOk3",
        "colab": {
          "base_uri": "https://localhost:8080/",
          "height": 136
        },
        "outputId": "8218b37b-a380-44ba-d38b-c33b39f41486"
      },
      "source": [
        "!git clone https://github.com/A03ki/f-AnoGAN.git"
      ],
      "execution_count": null,
      "outputs": [
        {
          "output_type": "stream",
          "text": [
            "Cloning into 'f-AnoGAN'...\n",
            "remote: Enumerating objects: 191, done.\u001b[K\n",
            "remote: Counting objects:   0% (1/191)\u001b[K\rremote: Counting objects:   1% (2/191)\u001b[K\rremote: Counting objects:   2% (4/191)\u001b[K\rremote: Counting objects:   3% (6/191)\u001b[K\rremote: Counting objects:   4% (8/191)\u001b[K\rremote: Counting objects:   5% (10/191)\u001b[K\rremote: Counting objects:   6% (12/191)\u001b[K\rremote: Counting objects:   7% (14/191)\u001b[K\rremote: Counting objects:   8% (16/191)\u001b[K\rremote: Counting objects:   9% (18/191)\u001b[K\rremote: Counting objects:  10% (20/191)\u001b[K\rremote: Counting objects:  11% (22/191)\u001b[K\rremote: Counting objects:  12% (23/191)\u001b[K\rremote: Counting objects:  13% (25/191)\u001b[K\rremote: Counting objects:  14% (27/191)\u001b[K\rremote: Counting objects:  15% (29/191)\u001b[K\rremote: Counting objects:  16% (31/191)\u001b[K\rremote: Counting objects:  17% (33/191)\u001b[K\rremote: Counting objects:  18% (35/191)\u001b[K\rremote: Counting objects:  19% (37/191)\u001b[K\rremote: Counting objects:  20% (39/191)\u001b[K\rremote: Counting objects:  21% (41/191)\u001b[K\rremote: Counting objects:  22% (43/191)\u001b[K\rremote: Counting objects:  23% (44/191)\u001b[K\rremote: Counting objects:  24% (46/191)\u001b[K\rremote: Counting objects:  25% (48/191)\u001b[K\rremote: Counting objects:  26% (50/191)\u001b[K\rremote: Counting objects:  27% (52/191)\u001b[K\rremote: Counting objects:  28% (54/191)\u001b[K\rremote: Counting objects:  29% (56/191)\u001b[K\rremote: Counting objects:  30% (58/191)\u001b[K\rremote: Counting objects:  31% (60/191)\u001b[K\rremote: Counting objects:  32% (62/191)\u001b[K\rremote: Counting objects:  33% (64/191)\u001b[K\rremote: Counting objects:  34% (65/191)\u001b[K\rremote: Counting objects:  35% (67/191)\u001b[K\rremote: Counting objects:  36% (69/191)\u001b[K\rremote: Counting objects:  37% (71/191)\u001b[K\rremote: Counting objects:  38% (73/191)\u001b[K\rremote: Counting objects:  39% (75/191)\u001b[K\rremote: Counting objects:  40% (77/191)\u001b[K\rremote: Counting objects:  41% (79/191)\u001b[K\rremote: Counting objects:  42% (81/191)\u001b[K\rremote: Counting objects:  43% (83/191)\u001b[K\rremote: Counting objects:  44% (85/191)\u001b[K\rremote: Counting objects:  45% (86/191)\u001b[K\rremote: Counting objects:  46% (88/191)\u001b[K\rremote: Counting objects:  47% (90/191)\u001b[K\rremote: Counting objects:  48% (92/191)\u001b[K\rremote: Counting objects:  49% (94/191)\u001b[K\rremote: Counting objects:  50% (96/191)\u001b[K\rremote: Counting objects:  51% (98/191)\u001b[K\rremote: Counting objects:  52% (100/191)\u001b[K\rremote: Counting objects:  53% (102/191)\u001b[K\rremote: Counting objects:  54% (104/191)\u001b[K\rremote: Counting objects:  55% (106/191)\u001b[K\rremote: Counting objects:  56% (107/191)\u001b[K\rremote: Counting objects:  57% (109/191)\u001b[K\rremote: Counting objects:  58% (111/191)\u001b[K\rremote: Counting objects:  59% (113/191)\u001b[K\rremote: Counting objects:  60% (115/191)\u001b[K\rremote: Counting objects:  61% (117/191)\u001b[K\rremote: Counting objects:  62% (119/191)\u001b[K\rremote: Counting objects:  63% (121/191)\u001b[K\rremote: Counting objects:  64% (123/191)\u001b[K\rremote: Counting objects:  65% (125/191)\u001b[K\rremote: Counting objects:  66% (127/191)\u001b[K\rremote: Counting objects:  67% (128/191)\u001b[K\rremote: Counting objects:  68% (130/191)\u001b[K\rremote: Counting objects:  69% (132/191)\u001b[K\rremote: Counting objects:  70% (134/191)\u001b[K\rremote: Counting objects:  71% (136/191)\u001b[K\rremote: Counting objects:  72% (138/191)\u001b[K\rremote: Counting objects:  73% (140/191)\u001b[K\rremote: Counting objects:  74% (142/191)\u001b[K\rremote: Counting objects:  75% (144/191)\u001b[K\rremote: Counting objects:  76% (146/191)\u001b[K\rremote: Counting objects:  77% (148/191)\u001b[K\rremote: Counting objects:  78% (149/191)\u001b[K\rremote: Counting objects:  79% (151/191)\u001b[K\rremote: Counting objects:  80% (153/191)\u001b[K\rremote: Counting objects:  81% (155/191)\u001b[K\rremote: Counting objects:  82% (157/191)\u001b[K\rremote: Counting objects:  83% (159/191)\u001b[K\rremote: Counting objects:  84% (161/191)\u001b[K\rremote: Counting objects:  85% (163/191)\u001b[K\rremote: Counting objects:  86% (165/191)\u001b[K\rremote: Counting objects:  87% (167/191)\u001b[K\rremote: Counting objects:  88% (169/191)\u001b[K\rremote: Counting objects:  89% (170/191)\u001b[K\rremote: Counting objects:  90% (172/191)\u001b[K\rremote: Counting objects:  91% (174/191)\u001b[K\rremote: Counting objects:  92% (176/191)\u001b[K\rremote: Counting objects:  93% (178/191)\u001b[K\rremote: Counting objects:  94% (180/191)\u001b[K\rremote: Counting objects:  95% (182/191)\u001b[K\rremote: Counting objects:  96% (184/191)\u001b[K\rremote: Counting objects:  97% (186/191)\u001b[K\rremote: Counting objects:  98% (188/191)\u001b[K\rremote: Counting objects:  99% (190/191)\u001b[K\rremote: Counting objects: 100% (191/191)\u001b[K\rremote: Counting objects: 100% (191/191), done.\u001b[K\n",
            "remote: Compressing objects:   0% (1/125)\u001b[K\rremote: Compressing objects:   1% (2/125)\u001b[K\rremote: Compressing objects:   2% (3/125)\u001b[K\rremote: Compressing objects:   3% (4/125)\u001b[K\rremote: Compressing objects:   4% (5/125)\u001b[K\rremote: Compressing objects:   5% (7/125)\u001b[K\rremote: Compressing objects:   6% (8/125)\u001b[K\rremote: Compressing objects:   7% (9/125)\u001b[K\rremote: Compressing objects:   8% (10/125)\u001b[K\rremote: Compressing objects:   9% (12/125)\u001b[K\rremote: Compressing objects:  10% (13/125)\u001b[K\rremote: Compressing objects:  11% (14/125)\u001b[K\rremote: Compressing objects:  12% (15/125)\u001b[K\rremote: Compressing objects:  13% (17/125)\u001b[K\rremote: Compressing objects:  14% (18/125)\u001b[K\rremote: Compressing objects:  15% (19/125)\u001b[K\rremote: Compressing objects:  16% (20/125)\u001b[K\rremote: Compressing objects:  17% (22/125)\u001b[K\rremote: Compressing objects:  18% (23/125)\u001b[K\rremote: Compressing objects:  19% (24/125)\u001b[K\rremote: Compressing objects:  20% (25/125)\u001b[K\rremote: Compressing objects:  21% (27/125)\u001b[K\rremote: Compressing objects:  22% (28/125)\u001b[K\rremote: Compressing objects:  23% (29/125)\u001b[K\rremote: Compressing objects:  24% (30/125)\u001b[K\rremote: Compressing objects:  25% (32/125)\u001b[K\rremote: Compressing objects:  26% (33/125)\u001b[K\rremote: Compressing objects:  27% (34/125)\u001b[K\rremote: Compressing objects:  28% (35/125)\u001b[K\rremote: Compressing objects:  29% (37/125)\u001b[K\rremote: Compressing objects:  30% (38/125)\u001b[K\rremote: Compressing objects:  31% (39/125)\u001b[K\rremote: Compressing objects:  32% (40/125)\u001b[K\rremote: Compressing objects:  33% (42/125)\u001b[K\rremote: Compressing objects:  34% (43/125)\u001b[K\rremote: Compressing objects:  35% (44/125)\u001b[K\rremote: Compressing objects:  36% (45/125)\u001b[K\rremote: Compressing objects:  37% (47/125)\u001b[K\rremote: Compressing objects:  38% (48/125)\u001b[K\rremote: Compressing objects:  39% (49/125)\u001b[K\rremote: Compressing objects:  40% (50/125)\u001b[K\rremote: Compressing objects:  41% (52/125)\u001b[K\rremote: Compressing objects:  42% (53/125)\u001b[K\rremote: Compressing objects:  43% (54/125)\u001b[K\rremote: Compressing objects:  44% (55/125)\u001b[K\rremote: Compressing objects:  45% (57/125)\u001b[K\rremote: Compressing objects:  46% (58/125)\u001b[K\rremote: Compressing objects:  47% (59/125)\u001b[K\rremote: Compressing objects:  48% (60/125)\u001b[K\rremote: Compressing objects:  49% (62/125)\u001b[K\rremote: Compressing objects:  50% (63/125)\u001b[K\rremote: Compressing objects:  51% (64/125)\u001b[K\rremote: Compressing objects:  52% (65/125)\u001b[K\rremote: Compressing objects:  53% (67/125)\u001b[K\rremote: Compressing objects:  54% (68/125)\u001b[K\rremote: Compressing objects:  55% (69/125)\u001b[K\rremote: Compressing objects:  56% (70/125)\u001b[K\rremote: Compressing objects:  57% (72/125)\u001b[K\rremote: Compressing objects:  58% (73/125)\u001b[K\rremote: Compressing objects:  59% (74/125)\u001b[K\rremote: Compressing objects:  60% (75/125)\u001b[K\rremote: Compressing objects:  61% (77/125)\u001b[K\rremote: Compressing objects:  62% (78/125)\u001b[K\rremote: Compressing objects:  63% (79/125)\u001b[K\rremote: Compressing objects:  64% (80/125)\u001b[K\rremote: Compressing objects:  65% (82/125)\u001b[K\rremote: Compressing objects:  66% (83/125)\u001b[K\rremote: Compressing objects:  67% (84/125)\u001b[K\rremote: Compressing objects:  68% (85/125)\u001b[K\rremote: Compressing objects:  69% (87/125)\u001b[K\rremote: Compressing objects:  70% (88/125)\u001b[K\rremote: Compressing objects:  71% (89/125)\u001b[K\rremote: Compressing objects:  72% (90/125)\u001b[K\rremote: Compressing objects:  73% (92/125)\u001b[K\rremote: Compressing objects:  74% (93/125)\u001b[K\rremote: Compressing objects:  75% (94/125)\u001b[K\rremote: Compressing objects:  76% (95/125)\u001b[K\rremote: Compressing objects:  77% (97/125)\u001b[K\rremote: Compressing objects:  78% (98/125)\u001b[K\rremote: Compressing objects:  79% (99/125)\u001b[K\rremote: Compressing objects:  80% (100/125)\u001b[K\rremote: Compressing objects:  81% (102/125)\u001b[K\rremote: Compressing objects:  82% (103/125)\u001b[K\rremote: Compressing objects:  83% (104/125)\u001b[K\rremote: Compressing objects:  84% (105/125)\u001b[K\rremote: Compressing objects:  85% (107/125)\u001b[K\rremote: Compressing objects:  86% (108/125)\u001b[K\rremote: Compressing objects:  87% (109/125)\u001b[K\rremote: Compressing objects:  88% (110/125)\u001b[K\rremote: Compressing objects:  89% (112/125)\u001b[K\rremote: Compressing objects:  90% (113/125)\u001b[K\rremote: Compressing objects:  91% (114/125)\u001b[K\rremote: Compressing objects:  92% (115/125)\u001b[K\rremote: Compressing objects:  93% (117/125)\u001b[K\rremote: Compressing objects:  94% (118/125)\u001b[K\rremote: Compressing objects:  95% (119/125)\u001b[K\rremote: Compressing objects:  96% (120/125)\u001b[K\rremote: Compressing objects:  97% (122/125)\u001b[K\rremote: Compressing objects:  98% (123/125)\u001b[K\rremote: Compressing objects:  99% (124/125)\u001b[K\rremote: Compressing objects: 100% (125/125)\u001b[K\rremote: Compressing objects: 100% (125/125), done.\u001b[K\n",
            "Receiving objects:   0% (1/191)   \rReceiving objects:   1% (2/191)   \rReceiving objects:   2% (4/191)   \rReceiving objects:   3% (6/191)   \rReceiving objects:   4% (8/191)   \rReceiving objects:   5% (10/191)   \rReceiving objects:   6% (12/191)   \rReceiving objects:   7% (14/191)   \rReceiving objects:   8% (16/191)   \rReceiving objects:   9% (18/191)   \rReceiving objects:  10% (20/191)   \rReceiving objects:  11% (22/191)   \rReceiving objects:  12% (23/191)   \rReceiving objects:  13% (25/191)   \rReceiving objects:  14% (27/191)   \rReceiving objects:  15% (29/191)   \rReceiving objects:  16% (31/191)   \rReceiving objects:  17% (33/191)   \rReceiving objects:  18% (35/191)   \rReceiving objects:  19% (37/191)   \rReceiving objects:  20% (39/191)   \rReceiving objects:  21% (41/191)   \rReceiving objects:  22% (43/191)   \rReceiving objects:  23% (44/191)   \rReceiving objects:  24% (46/191)   \rReceiving objects:  25% (48/191)   \rReceiving objects:  26% (50/191)   \rReceiving objects:  27% (52/191)   \rReceiving objects:  28% (54/191)   \rReceiving objects:  29% (56/191)   \rReceiving objects:  30% (58/191)   \rReceiving objects:  31% (60/191)   \rReceiving objects:  32% (62/191)   \rReceiving objects:  33% (64/191)   \rReceiving objects:  34% (65/191)   \rReceiving objects:  35% (67/191)   \rReceiving objects:  36% (69/191)   \rReceiving objects:  37% (71/191)   \rReceiving objects:  38% (73/191)   \rReceiving objects:  39% (75/191)   \rReceiving objects:  40% (77/191)   \rReceiving objects:  41% (79/191)   \rReceiving objects:  42% (81/191)   \rReceiving objects:  43% (83/191)   \rReceiving objects:  44% (85/191)   \rReceiving objects:  45% (86/191)   \rReceiving objects:  46% (88/191)   \rReceiving objects:  47% (90/191)   \rReceiving objects:  48% (92/191)   \rReceiving objects:  49% (94/191)   \rReceiving objects:  50% (96/191)   \rReceiving objects:  51% (98/191)   \rReceiving objects:  52% (100/191)   \rReceiving objects:  53% (102/191)   \rReceiving objects:  54% (104/191)   \rReceiving objects:  55% (106/191)   \rReceiving objects:  56% (107/191)   \rReceiving objects:  57% (109/191)   \rReceiving objects:  58% (111/191)   \rReceiving objects:  59% (113/191)   \rReceiving objects:  60% (115/191)   \rReceiving objects:  61% (117/191)   \rReceiving objects:  62% (119/191)   \rReceiving objects:  63% (121/191)   \rReceiving objects:  64% (123/191)   \rReceiving objects:  65% (125/191)   \rReceiving objects:  66% (127/191)   \rReceiving objects:  67% (128/191)   \rReceiving objects:  68% (130/191)   \rReceiving objects:  69% (132/191)   \rReceiving objects:  70% (134/191)   \rReceiving objects:  71% (136/191)   \rReceiving objects:  72% (138/191)   \rReceiving objects:  73% (140/191)   \rReceiving objects:  74% (142/191)   \rReceiving objects:  75% (144/191)   \rReceiving objects:  76% (146/191)   \rReceiving objects:  77% (148/191)   \rReceiving objects:  78% (149/191)   \rReceiving objects:  79% (151/191)   \rReceiving objects:  80% (153/191)   \rReceiving objects:  81% (155/191)   \rReceiving objects:  82% (157/191)   \rReceiving objects:  83% (159/191)   \rReceiving objects:  84% (161/191)   \rReceiving objects:  85% (163/191)   \rReceiving objects:  86% (165/191)   \rReceiving objects:  87% (167/191)   \rReceiving objects:  88% (169/191)   \rReceiving objects:  89% (170/191)   \rReceiving objects:  90% (172/191)   \rReceiving objects:  91% (174/191)   \rReceiving objects:  92% (176/191)   \rReceiving objects:  93% (178/191)   \rReceiving objects:  94% (180/191)   \rReceiving objects:  95% (182/191)   \rremote: Total 191 (delta 106), reused 135 (delta 64), pack-reused 0\u001b[K\n",
            "Receiving objects:  96% (184/191)   \rReceiving objects:  97% (186/191)   \rReceiving objects:  98% (188/191)   \rReceiving objects:  99% (190/191)   \rReceiving objects: 100% (191/191)   \rReceiving objects: 100% (191/191), 220.51 KiB | 5.96 MiB/s, done.\n",
            "Resolving deltas:   0% (0/106)   \rResolving deltas:  16% (17/106)   \rResolving deltas:  21% (23/106)   \rResolving deltas:  31% (33/106)   \rResolving deltas:  32% (34/106)   \rResolving deltas:  36% (39/106)   \rResolving deltas:  44% (47/106)   \rResolving deltas:  65% (69/106)   \rResolving deltas:  67% (72/106)   \rResolving deltas:  71% (76/106)   \rResolving deltas:  72% (77/106)   \rResolving deltas:  74% (79/106)   \rResolving deltas:  77% (82/106)   \rResolving deltas:  78% (83/106)   \rResolving deltas:  80% (85/106)   \rResolving deltas:  90% (96/106)   \rResolving deltas: 100% (106/106)   \rResolving deltas: 100% (106/106), done.\n"
          ],
          "name": "stdout"
        }
      ]
    },
    {
      "cell_type": "code",
      "metadata": {
        "id": "CS3g2kJFuu1k",
        "colab": {
          "base_uri": "https://localhost:8080/",
          "height": 34
        },
        "outputId": "0a398cd2-80b9-4c6c-edf7-1cab05998cf5"
      },
      "source": [
        "%cd f-AnoGAN"
      ],
      "execution_count": null,
      "outputs": [
        {
          "output_type": "stream",
          "text": [
            "/content/f-AnoGAN\n"
          ],
          "name": "stdout"
        }
      ]
    },
    {
      "cell_type": "code",
      "metadata": {
        "id": "P6isnKwSuXzH",
        "colab": {
          "base_uri": "https://localhost:8080/",
          "height": 1000
        },
        "outputId": "90f09144-e855-4dcc-d5b9-e2da71f1870e"
      },
      "source": [
        "!python setup.py install"
      ],
      "execution_count": null,
      "outputs": [
        {
          "output_type": "stream",
          "text": [
            "running install\n",
            "running bdist_egg\n",
            "running egg_info\n",
            "creating fanogan.egg-info\n",
            "writing fanogan.egg-info/PKG-INFO\n",
            "writing dependency_links to fanogan.egg-info/dependency_links.txt\n",
            "writing requirements to fanogan.egg-info/requires.txt\n",
            "writing top-level names to fanogan.egg-info/top_level.txt\n",
            "writing manifest file 'fanogan.egg-info/SOURCES.txt'\n",
            "writing manifest file 'fanogan.egg-info/SOURCES.txt'\n",
            "installing library code to build/bdist.linux-x86_64/egg\n",
            "running install_lib\n",
            "running build_py\n",
            "creating build\n",
            "creating build/lib\n",
            "creating build/lib/fanogan\n",
            "copying fanogan/test_anomaly_detection.py -> build/lib/fanogan\n",
            "copying fanogan/train_wgangp.py -> build/lib/fanogan\n",
            "copying fanogan/train_encoder_izif.py -> build/lib/fanogan\n",
            "copying fanogan/save_compared_images.py -> build/lib/fanogan\n",
            "copying fanogan/__init__.py -> build/lib/fanogan\n",
            "creating build/bdist.linux-x86_64\n",
            "creating build/bdist.linux-x86_64/egg\n",
            "creating build/bdist.linux-x86_64/egg/fanogan\n",
            "copying build/lib/fanogan/test_anomaly_detection.py -> build/bdist.linux-x86_64/egg/fanogan\n",
            "copying build/lib/fanogan/train_wgangp.py -> build/bdist.linux-x86_64/egg/fanogan\n",
            "copying build/lib/fanogan/train_encoder_izif.py -> build/bdist.linux-x86_64/egg/fanogan\n",
            "copying build/lib/fanogan/save_compared_images.py -> build/bdist.linux-x86_64/egg/fanogan\n",
            "copying build/lib/fanogan/__init__.py -> build/bdist.linux-x86_64/egg/fanogan\n",
            "byte-compiling build/bdist.linux-x86_64/egg/fanogan/test_anomaly_detection.py to test_anomaly_detection.cpython-36.pyc\n",
            "byte-compiling build/bdist.linux-x86_64/egg/fanogan/train_wgangp.py to train_wgangp.cpython-36.pyc\n",
            "byte-compiling build/bdist.linux-x86_64/egg/fanogan/train_encoder_izif.py to train_encoder_izif.cpython-36.pyc\n",
            "byte-compiling build/bdist.linux-x86_64/egg/fanogan/save_compared_images.py to save_compared_images.cpython-36.pyc\n",
            "byte-compiling build/bdist.linux-x86_64/egg/fanogan/__init__.py to __init__.cpython-36.pyc\n",
            "creating build/bdist.linux-x86_64/egg/EGG-INFO\n",
            "copying fanogan.egg-info/PKG-INFO -> build/bdist.linux-x86_64/egg/EGG-INFO\n",
            "copying fanogan.egg-info/SOURCES.txt -> build/bdist.linux-x86_64/egg/EGG-INFO\n",
            "copying fanogan.egg-info/dependency_links.txt -> build/bdist.linux-x86_64/egg/EGG-INFO\n",
            "copying fanogan.egg-info/requires.txt -> build/bdist.linux-x86_64/egg/EGG-INFO\n",
            "copying fanogan.egg-info/top_level.txt -> build/bdist.linux-x86_64/egg/EGG-INFO\n",
            "zip_safe flag not set; analyzing archive contents...\n",
            "creating dist\n",
            "creating 'dist/fanogan-0.0.1-py3.6.egg' and adding 'build/bdist.linux-x86_64/egg' to it\n",
            "removing 'build/bdist.linux-x86_64/egg' (and everything under it)\n",
            "Processing fanogan-0.0.1-py3.6.egg\n",
            "Copying fanogan-0.0.1-py3.6.egg to /usr/local/lib/python3.6/dist-packages\n",
            "Adding fanogan 0.0.1 to easy-install.pth file\n",
            "\n",
            "Installed /usr/local/lib/python3.6/dist-packages/fanogan-0.0.1-py3.6.egg\n",
            "Processing dependencies for fanogan==0.0.1\n",
            "Searching for torchvision4ad\n",
            "Reading https://pypi.org/simple/torchvision4ad/\n",
            "Downloading https://files.pythonhosted.org/packages/b6/2f/7d6026a1b5f7003ed298355cfadccacdf4dba792a8b7de7f56b813258ff2/torchvision4ad-0.1.1-py3-none-any.whl#sha256=bfce9cdb3e8c4f3c9e22ad5df9706c5b38604226d7271205f79e29538fb60e7f\n",
            "Best match: torchvision4ad 0.1.1\n",
            "Processing torchvision4ad-0.1.1-py3-none-any.whl\n",
            "Installing torchvision4ad-0.1.1-py3-none-any.whl to /usr/local/lib/python3.6/dist-packages\n",
            "Adding torchvision4ad 0.1.1 to easy-install.pth file\n",
            "\n",
            "Installed /usr/local/lib/python3.6/dist-packages/torchvision4ad-0.1.1-py3.6.egg\n",
            "Searching for scikit-learn==0.22.2.post1\n",
            "Best match: scikit-learn 0.22.2.post1\n",
            "Adding scikit-learn 0.22.2.post1 to easy-install.pth file\n",
            "\n",
            "Using /usr/local/lib/python3.6/dist-packages\n",
            "Searching for Pillow==7.0.0\n",
            "Best match: Pillow 7.0.0\n",
            "Adding Pillow 7.0.0 to easy-install.pth file\n",
            "\n",
            "Using /usr/local/lib/python3.6/dist-packages\n",
            "Searching for pandas==1.0.5\n",
            "Best match: pandas 1.0.5\n",
            "Adding pandas 1.0.5 to easy-install.pth file\n",
            "\n",
            "Using /usr/local/lib/python3.6/dist-packages\n",
            "Searching for numpy==1.18.5\n",
            "Best match: numpy 1.18.5\n",
            "Adding numpy 1.18.5 to easy-install.pth file\n",
            "Installing f2py script to /usr/local/bin\n",
            "Installing f2py3 script to /usr/local/bin\n",
            "Installing f2py3.6 script to /usr/local/bin\n",
            "\n",
            "Using /usr/local/lib/python3.6/dist-packages\n",
            "Searching for matplotlib==3.2.2\n",
            "Best match: matplotlib 3.2.2\n",
            "Adding matplotlib 3.2.2 to easy-install.pth file\n",
            "\n",
            "Using /usr/local/lib/python3.6/dist-packages\n",
            "Searching for torchvision==0.6.1+cu101\n",
            "Best match: torchvision 0.6.1+cu101\n",
            "Adding torchvision 0.6.1+cu101 to easy-install.pth file\n",
            "\n",
            "Using /usr/local/lib/python3.6/dist-packages\n",
            "Searching for torch==1.5.1+cu101\n",
            "Best match: torch 1.5.1+cu101\n",
            "Adding torch 1.5.1+cu101 to easy-install.pth file\n",
            "Installing convert-caffe2-to-onnx script to /usr/local/bin\n",
            "Installing convert-onnx-to-caffe2 script to /usr/local/bin\n",
            "\n",
            "Using /usr/local/lib/python3.6/dist-packages\n",
            "Searching for joblib==0.16.0\n",
            "Best match: joblib 0.16.0\n",
            "Adding joblib 0.16.0 to easy-install.pth file\n",
            "\n",
            "Using /usr/local/lib/python3.6/dist-packages\n",
            "Searching for scipy==1.4.1\n",
            "Best match: scipy 1.4.1\n",
            "Adding scipy 1.4.1 to easy-install.pth file\n",
            "\n",
            "Using /usr/local/lib/python3.6/dist-packages\n",
            "Searching for pytz==2018.9\n",
            "Best match: pytz 2018.9\n",
            "Adding pytz 2018.9 to easy-install.pth file\n",
            "\n",
            "Using /usr/local/lib/python3.6/dist-packages\n",
            "Searching for python-dateutil==2.8.1\n",
            "Best match: python-dateutil 2.8.1\n",
            "Adding python-dateutil 2.8.1 to easy-install.pth file\n",
            "\n",
            "Using /usr/local/lib/python3.6/dist-packages\n",
            "Searching for cycler==0.10.0\n",
            "Best match: cycler 0.10.0\n",
            "Adding cycler 0.10.0 to easy-install.pth file\n",
            "\n",
            "Using /usr/local/lib/python3.6/dist-packages\n",
            "Searching for pyparsing==2.4.7\n",
            "Best match: pyparsing 2.4.7\n",
            "Adding pyparsing 2.4.7 to easy-install.pth file\n",
            "\n",
            "Using /usr/local/lib/python3.6/dist-packages\n",
            "Searching for kiwisolver==1.2.0\n",
            "Best match: kiwisolver 1.2.0\n",
            "Adding kiwisolver 1.2.0 to easy-install.pth file\n",
            "\n",
            "Using /usr/local/lib/python3.6/dist-packages\n",
            "Searching for future==0.16.0\n",
            "Best match: future 0.16.0\n",
            "Adding future 0.16.0 to easy-install.pth file\n",
            "Installing futurize script to /usr/local/bin\n",
            "Installing pasteurize script to /usr/local/bin\n",
            "\n",
            "Using /usr/local/lib/python3.6/dist-packages\n",
            "Searching for six==1.15.0\n",
            "Best match: six 1.15.0\n",
            "Adding six 1.15.0 to easy-install.pth file\n",
            "\n",
            "Using /usr/local/lib/python3.6/dist-packages\n",
            "Finished processing dependencies for fanogan==0.0.1\n"
          ],
          "name": "stdout"
        }
      ]
    },
    {
      "cell_type": "code",
      "metadata": {
        "id": "iQKG1xQguVU4",
        "colab": {
          "base_uri": "https://localhost:8080/",
          "height": 34
        },
        "outputId": "f331e5c6-1518-4634-984f-f1837bf5b3f7"
      },
      "source": [
        "%cd mnist"
      ],
      "execution_count": null,
      "outputs": [
        {
          "output_type": "stream",
          "text": [
            "/content/f-AnoGAN/mnist\n"
          ],
          "name": "stdout"
        }
      ]
    },
    {
      "cell_type": "markdown",
      "metadata": {
        "id": "dN5mOyGyUP-B"
      },
      "source": [
        "### Step: 1\n",
        "\n",
        "If you don't run command `python train_wgangp.py` yet, please run below."
      ]
    },
    {
      "cell_type": "code",
      "metadata": {
        "id": "tTV9PqA-Hmsy",
        "colab": {
          "base_uri": "https://localhost:8080/",
          "height": 1000
        },
        "outputId": "100cfa10-0483-47c1-987a-0433f8459bc3"
      },
      "source": [
        "!python train_wgangp.py --training_label 1 --seed 2 --n_epochs 20"
      ],
      "execution_count": null,
      "outputs": [
        {
          "output_type": "stream",
          "text": [
            "Downloading http://yann.lecun.com/exdb/mnist/train-images-idx3-ubyte.gz to dataset/MNIST/raw/train-images-idx3-ubyte.gz\n",
            "\r0it [00:00, ?it/s]\r  0% 16384/9912422 [00:00<01:16, 129462.02it/s]\r 71% 7086080/9912422 [00:00<00:15, 184800.20it/s]\r9920512it [00:00, 41732419.94it/s]               \n",
            "Extracting dataset/MNIST/raw/train-images-idx3-ubyte.gz to dataset/MNIST/raw\n",
            "Downloading http://yann.lecun.com/exdb/mnist/train-labels-idx1-ubyte.gz to dataset/MNIST/raw/train-labels-idx1-ubyte.gz\n",
            "32768it [00:00, 348250.89it/s]\n",
            "Extracting dataset/MNIST/raw/train-labels-idx1-ubyte.gz to dataset/MNIST/raw\n",
            "Downloading http://yann.lecun.com/exdb/mnist/t10k-images-idx3-ubyte.gz to dataset/MNIST/raw/t10k-images-idx3-ubyte.gz\n",
            "1654784it [00:00, 8672733.44it/s]              \n",
            "Extracting dataset/MNIST/raw/t10k-images-idx3-ubyte.gz to dataset/MNIST/raw\n",
            "Downloading http://yann.lecun.com/exdb/mnist/t10k-labels-idx1-ubyte.gz to dataset/MNIST/raw/t10k-labels-idx1-ubyte.gz\n",
            "8192it [00:00, 143829.59it/s]\n",
            "Extracting dataset/MNIST/raw/t10k-labels-idx1-ubyte.gz to dataset/MNIST/raw\n",
            "Processing...\n",
            "/pytorch/torch/csrc/utils/tensor_numpy.cpp:141: UserWarning: The given NumPy array is not writeable, and PyTorch does not support non-writeable tensors. This means you can write to the underlying (supposedly non-writeable) NumPy array using the tensor. You may want to copy the array to protect its data or make it writeable before converting it to a tensor. This type of warning will be suppressed for the rest of this program.\n",
            "Done!\n",
            "[Epoch  0/20] [Batch  0/85] [D loss: 8.159774] [G loss: 0.020820]\n",
            "[Epoch  0/20] [Batch  5/85] [D loss: 4.227238] [G loss: 0.012192]\n",
            "[Epoch  0/20] [Batch 10/85] [D loss: -5.148217] [G loss: -0.022320]\n",
            "[Epoch  0/20] [Batch 15/85] [D loss: -19.556538] [G loss: -0.132786]\n",
            "[Epoch  0/20] [Batch 20/85] [D loss: -33.066616] [G loss: -0.389789]\n",
            "[Epoch  0/20] [Batch 25/85] [D loss: -39.294750] [G loss: -0.752819]\n",
            "[Epoch  0/20] [Batch 30/85] [D loss: -40.412003] [G loss: -1.098325]\n",
            "[Epoch  0/20] [Batch 35/85] [D loss: -40.565872] [G loss: -1.448941]\n",
            "[Epoch  0/20] [Batch 40/85] [D loss: -40.445400] [G loss: -1.732463]\n",
            "[Epoch  0/20] [Batch 45/85] [D loss: -39.832481] [G loss: -2.096252]\n",
            "[Epoch  0/20] [Batch 50/85] [D loss: -39.257214] [G loss: -2.577216]\n",
            "[Epoch  0/20] [Batch 55/85] [D loss: -38.976891] [G loss: -2.992942]\n",
            "[Epoch  0/20] [Batch 60/85] [D loss: -38.482048] [G loss: -3.394527]\n",
            "[Epoch  0/20] [Batch 65/85] [D loss: -38.621567] [G loss: -3.853037]\n",
            "[Epoch  0/20] [Batch 70/85] [D loss: -37.564278] [G loss: -4.501330]\n",
            "[Epoch  0/20] [Batch 75/85] [D loss: -36.845581] [G loss: -5.136926]\n",
            "[Epoch  0/20] [Batch 80/85] [D loss: -35.895344] [G loss: -5.705274]\n",
            "[Epoch  1/20] [Batch  0/85] [D loss: -34.713032] [G loss: -6.557712]\n",
            "[Epoch  1/20] [Batch  5/85] [D loss: -34.907578] [G loss: -7.128771]\n",
            "[Epoch  1/20] [Batch 10/85] [D loss: -34.211357] [G loss: -7.881917]\n",
            "[Epoch  1/20] [Batch 15/85] [D loss: -32.953644] [G loss: -8.861108]\n",
            "[Epoch  1/20] [Batch 20/85] [D loss: -31.953320] [G loss: -9.666022]\n",
            "[Epoch  1/20] [Batch 25/85] [D loss: -30.489273] [G loss: -10.592177]\n",
            "[Epoch  1/20] [Batch 30/85] [D loss: -29.670395] [G loss: -11.633619]\n",
            "[Epoch  1/20] [Batch 35/85] [D loss: -28.285366] [G loss: -12.793713]\n",
            "[Epoch  1/20] [Batch 40/85] [D loss: -25.726280] [G loss: -14.653685]\n",
            "[Epoch  1/20] [Batch 45/85] [D loss: -24.669228] [G loss: -15.643532]\n",
            "[Epoch  1/20] [Batch 50/85] [D loss: -22.606537] [G loss: -17.241489]\n",
            "[Epoch  1/20] [Batch 55/85] [D loss: -21.728119] [G loss: -17.720184]\n",
            "[Epoch  1/20] [Batch 60/85] [D loss: -20.086544] [G loss: -18.523527]\n",
            "[Epoch  1/20] [Batch 65/85] [D loss: -17.967432] [G loss: -20.270790]\n",
            "[Epoch  1/20] [Batch 70/85] [D loss: -15.597102] [G loss: -21.487797]\n",
            "[Epoch  1/20] [Batch 75/85] [D loss: -15.511711] [G loss: -20.975300]\n",
            "[Epoch  1/20] [Batch 80/85] [D loss: -13.554217] [G loss: -22.451296]\n",
            "[Epoch  2/20] [Batch  0/85] [D loss: -11.177910] [G loss: -23.577700]\n",
            "[Epoch  2/20] [Batch  5/85] [D loss: -10.498539] [G loss: -23.639065]\n",
            "[Epoch  2/20] [Batch 10/85] [D loss: -10.176435] [G loss: -23.579872]\n",
            "[Epoch  2/20] [Batch 15/85] [D loss: -7.788464] [G loss: -24.898350]\n",
            "[Epoch  2/20] [Batch 20/85] [D loss: -7.437714] [G loss: -24.344475]\n",
            "[Epoch  2/20] [Batch 25/85] [D loss: -7.384273] [G loss: -24.244545]\n",
            "[Epoch  2/20] [Batch 30/85] [D loss: -7.301381] [G loss: -23.816750]\n",
            "[Epoch  2/20] [Batch 35/85] [D loss: -6.922270] [G loss: -23.505791]\n",
            "[Epoch  2/20] [Batch 40/85] [D loss: -5.217934] [G loss: -24.385258]\n",
            "[Epoch  2/20] [Batch 45/85] [D loss: -4.476217] [G loss: -24.389812]\n",
            "[Epoch  2/20] [Batch 50/85] [D loss: -4.381829] [G loss: -24.298651]\n",
            "[Epoch  2/20] [Batch 55/85] [D loss: -3.960404] [G loss: -23.941519]\n",
            "[Epoch  2/20] [Batch 60/85] [D loss: -3.050034] [G loss: -24.408529]\n",
            "[Epoch  2/20] [Batch 65/85] [D loss: -3.644569] [G loss: -23.842525]\n",
            "[Epoch  2/20] [Batch 70/85] [D loss: -3.098608] [G loss: -24.306557]\n",
            "[Epoch  2/20] [Batch 75/85] [D loss: -3.491756] [G loss: -23.617126]\n",
            "[Epoch  2/20] [Batch 80/85] [D loss: -2.934363] [G loss: -23.771090]\n",
            "[Epoch  3/20] [Batch  0/85] [D loss: -2.711784] [G loss: -23.733805]\n",
            "[Epoch  3/20] [Batch  5/85] [D loss: -2.705473] [G loss: -23.573982]\n",
            "[Epoch  3/20] [Batch 10/85] [D loss: -1.648042] [G loss: -24.083290]\n",
            "[Epoch  3/20] [Batch 15/85] [D loss: -3.017118] [G loss: -22.483179]\n",
            "[Epoch  3/20] [Batch 20/85] [D loss: -2.150942] [G loss: -23.308744]\n",
            "[Epoch  3/20] [Batch 25/85] [D loss: -2.280990] [G loss: -22.944756]\n",
            "[Epoch  3/20] [Batch 30/85] [D loss: -2.603220] [G loss: -22.867474]\n",
            "[Epoch  3/20] [Batch 35/85] [D loss: -1.545330] [G loss: -23.276438]\n",
            "[Epoch  3/20] [Batch 40/85] [D loss: -1.666384] [G loss: -22.745161]\n",
            "[Epoch  3/20] [Batch 45/85] [D loss: -2.447642] [G loss: -22.397409]\n",
            "[Epoch  3/20] [Batch 50/85] [D loss: -1.767877] [G loss: -22.681353]\n",
            "[Epoch  3/20] [Batch 55/85] [D loss: -1.488863] [G loss: -22.663612]\n",
            "[Epoch  3/20] [Batch 60/85] [D loss: -1.269528] [G loss: -22.745327]\n",
            "[Epoch  3/20] [Batch 65/85] [D loss: -1.396037] [G loss: -22.944773]\n",
            "[Epoch  3/20] [Batch 70/85] [D loss: -1.200379] [G loss: -23.329309]\n",
            "[Epoch  3/20] [Batch 75/85] [D loss: -1.026134] [G loss: -22.942181]\n",
            "[Epoch  3/20] [Batch 80/85] [D loss: -1.311073] [G loss: -22.982040]\n",
            "[Epoch  4/20] [Batch  0/85] [D loss: -1.610409] [G loss: -22.802708]\n",
            "[Epoch  4/20] [Batch  5/85] [D loss: -1.014692] [G loss: -23.521461]\n",
            "[Epoch  4/20] [Batch 10/85] [D loss: -1.045719] [G loss: -23.153072]\n",
            "[Epoch  4/20] [Batch 15/85] [D loss: -0.942519] [G loss: -23.081951]\n",
            "[Epoch  4/20] [Batch 20/85] [D loss: -1.090707] [G loss: -22.751469]\n",
            "[Epoch  4/20] [Batch 25/85] [D loss: -1.269596] [G loss: -22.667656]\n",
            "[Epoch  4/20] [Batch 30/85] [D loss: -0.882674] [G loss: -22.586098]\n",
            "[Epoch  4/20] [Batch 35/85] [D loss: -1.131925] [G loss: -22.349848]\n",
            "[Epoch  4/20] [Batch 40/85] [D loss: -1.084334] [G loss: -22.267494]\n",
            "[Epoch  4/20] [Batch 45/85] [D loss: -0.878265] [G loss: -22.356209]\n",
            "[Epoch  4/20] [Batch 50/85] [D loss: -0.904921] [G loss: -21.951250]\n",
            "[Epoch  4/20] [Batch 55/85] [D loss: -1.095091] [G loss: -21.801643]\n",
            "[Epoch  4/20] [Batch 60/85] [D loss: -1.108163] [G loss: -21.190315]\n",
            "[Epoch  4/20] [Batch 65/85] [D loss: -1.360423] [G loss: -21.084942]\n",
            "[Epoch  4/20] [Batch 70/85] [D loss: -1.106472] [G loss: -21.085947]\n",
            "[Epoch  4/20] [Batch 75/85] [D loss: -0.991725] [G loss: -21.194057]\n",
            "[Epoch  4/20] [Batch 80/85] [D loss: -0.908472] [G loss: -21.043888]\n",
            "[Epoch  5/20] [Batch  0/85] [D loss: -0.874706] [G loss: -21.132374]\n",
            "[Epoch  5/20] [Batch  5/85] [D loss: -0.755949] [G loss: -20.936203]\n",
            "[Epoch  5/20] [Batch 10/85] [D loss: -1.003832] [G loss: -20.412149]\n",
            "[Epoch  5/20] [Batch 15/85] [D loss: -0.884521] [G loss: -20.437654]\n",
            "[Epoch  5/20] [Batch 20/85] [D loss: -0.851080] [G loss: -20.076021]\n",
            "[Epoch  5/20] [Batch 25/85] [D loss: -0.831221] [G loss: -20.180937]\n",
            "[Epoch  5/20] [Batch 30/85] [D loss: -0.993865] [G loss: -20.287350]\n",
            "[Epoch  5/20] [Batch 35/85] [D loss: -0.772564] [G loss: -19.942373]\n",
            "[Epoch  5/20] [Batch 40/85] [D loss: -0.955172] [G loss: -20.121391]\n",
            "[Epoch  5/20] [Batch 45/85] [D loss: -0.885830] [G loss: -20.148233]\n",
            "[Epoch  5/20] [Batch 50/85] [D loss: -1.140123] [G loss: -19.916420]\n",
            "[Epoch  5/20] [Batch 55/85] [D loss: -1.048877] [G loss: -19.719006]\n",
            "[Epoch  5/20] [Batch 60/85] [D loss: -1.040017] [G loss: -19.385952]\n",
            "[Epoch  5/20] [Batch 65/85] [D loss: -0.976087] [G loss: -19.652359]\n",
            "[Epoch  5/20] [Batch 70/85] [D loss: -0.884284] [G loss: -19.218750]\n",
            "[Epoch  5/20] [Batch 75/85] [D loss: -0.869807] [G loss: -19.283138]\n",
            "[Epoch  5/20] [Batch 80/85] [D loss: -0.872293] [G loss: -18.722809]\n",
            "[Epoch  6/20] [Batch  0/85] [D loss: -0.736098] [G loss: -18.906927]\n",
            "[Epoch  6/20] [Batch  5/85] [D loss: -0.664333] [G loss: -18.887344]\n",
            "[Epoch  6/20] [Batch 10/85] [D loss: -0.741663] [G loss: -18.422754]\n",
            "[Epoch  6/20] [Batch 15/85] [D loss: -0.765925] [G loss: -18.355736]\n",
            "[Epoch  6/20] [Batch 20/85] [D loss: -0.869930] [G loss: -18.086472]\n",
            "[Epoch  6/20] [Batch 25/85] [D loss: -0.672044] [G loss: -17.803215]\n",
            "[Epoch  6/20] [Batch 30/85] [D loss: -0.700058] [G loss: -17.894936]\n",
            "[Epoch  6/20] [Batch 35/85] [D loss: -1.010821] [G loss: -17.510818]\n",
            "[Epoch  6/20] [Batch 40/85] [D loss: -0.926548] [G loss: -17.297916]\n",
            "[Epoch  6/20] [Batch 45/85] [D loss: -0.799894] [G loss: -16.683374]\n",
            "[Epoch  6/20] [Batch 50/85] [D loss: -0.769131] [G loss: -16.314928]\n",
            "[Epoch  6/20] [Batch 55/85] [D loss: -1.057359] [G loss: -15.652296]\n",
            "[Epoch  6/20] [Batch 60/85] [D loss: -0.736459] [G loss: -15.327003]\n",
            "[Epoch  6/20] [Batch 65/85] [D loss: -0.769540] [G loss: -15.034693]\n",
            "[Epoch  6/20] [Batch 70/85] [D loss: -1.080599] [G loss: -14.952163]\n",
            "[Epoch  6/20] [Batch 75/85] [D loss: -0.800164] [G loss: -14.942123]\n",
            "[Epoch  6/20] [Batch 80/85] [D loss: -0.575157] [G loss: -15.366179]\n",
            "[Epoch  7/20] [Batch  0/85] [D loss: -0.557284] [G loss: -16.103016]\n",
            "[Epoch  7/20] [Batch  5/85] [D loss: -0.595071] [G loss: -15.971415]\n",
            "[Epoch  7/20] [Batch 10/85] [D loss: -0.532114] [G loss: -15.581036]\n",
            "[Epoch  7/20] [Batch 15/85] [D loss: -0.539089] [G loss: -15.530041]\n",
            "[Epoch  7/20] [Batch 20/85] [D loss: -0.521051] [G loss: -15.444421]\n",
            "[Epoch  7/20] [Batch 25/85] [D loss: -0.696969] [G loss: -15.110634]\n",
            "[Epoch  7/20] [Batch 30/85] [D loss: -0.694029] [G loss: -14.669374]\n",
            "[Epoch  7/20] [Batch 35/85] [D loss: -0.421276] [G loss: -14.218322]\n",
            "[Epoch  7/20] [Batch 40/85] [D loss: -0.706355] [G loss: -14.022922]\n",
            "[Epoch  7/20] [Batch 45/85] [D loss: -0.656970] [G loss: -14.038961]\n",
            "[Epoch  7/20] [Batch 50/85] [D loss: -0.485463] [G loss: -14.548145]\n",
            "[Epoch  7/20] [Batch 55/85] [D loss: -0.290497] [G loss: -14.267532]\n",
            "[Epoch  7/20] [Batch 60/85] [D loss: -0.488216] [G loss: -14.392479]\n",
            "[Epoch  7/20] [Batch 65/85] [D loss: -0.229871] [G loss: -14.867621]\n",
            "[Epoch  7/20] [Batch 70/85] [D loss: -0.421226] [G loss: -14.633242]\n",
            "[Epoch  7/20] [Batch 75/85] [D loss: -0.511996] [G loss: -14.958829]\n",
            "[Epoch  7/20] [Batch 80/85] [D loss: -0.500503] [G loss: -15.673646]\n",
            "[Epoch  8/20] [Batch  0/85] [D loss: -0.425194] [G loss: -15.619248]\n",
            "[Epoch  8/20] [Batch  5/85] [D loss: -0.512628] [G loss: -14.975256]\n",
            "[Epoch  8/20] [Batch 10/85] [D loss: -0.559489] [G loss: -15.275128]\n",
            "[Epoch  8/20] [Batch 15/85] [D loss: -0.625265] [G loss: -14.796302]\n",
            "[Epoch  8/20] [Batch 20/85] [D loss: -0.645275] [G loss: -14.198110]\n",
            "[Epoch  8/20] [Batch 25/85] [D loss: -0.826452] [G loss: -12.805521]\n",
            "[Epoch  8/20] [Batch 30/85] [D loss: -0.951044] [G loss: -11.920294]\n",
            "[Epoch  8/20] [Batch 35/85] [D loss: -0.787393] [G loss: -10.255693]\n",
            "[Epoch  8/20] [Batch 40/85] [D loss: -0.910201] [G loss: -9.551611]\n",
            "[Epoch  8/20] [Batch 45/85] [D loss: -1.118508] [G loss: -9.054007]\n",
            "[Epoch  8/20] [Batch 50/85] [D loss: -0.792032] [G loss: -8.379086]\n",
            "[Epoch  8/20] [Batch 55/85] [D loss: -0.684662] [G loss: -8.021035]\n",
            "[Epoch  8/20] [Batch 60/85] [D loss: -0.677306] [G loss: -7.485871]\n",
            "[Epoch  8/20] [Batch 65/85] [D loss: -0.685993] [G loss: -7.492371]\n",
            "[Epoch  8/20] [Batch 70/85] [D loss: -0.663400] [G loss: -7.613884]\n",
            "[Epoch  8/20] [Batch 75/85] [D loss: -0.808291] [G loss: -8.747450]\n",
            "[Epoch  8/20] [Batch 80/85] [D loss: -0.532277] [G loss: -8.284674]\n",
            "[Epoch  9/20] [Batch  0/85] [D loss: -0.672809] [G loss: -9.043825]\n",
            "[Epoch  9/20] [Batch  5/85] [D loss: -0.978318] [G loss: -9.125975]\n",
            "[Epoch  9/20] [Batch 10/85] [D loss: -0.933174] [G loss: -9.000337]\n",
            "[Epoch  9/20] [Batch 15/85] [D loss: -0.789943] [G loss: -7.533146]\n",
            "[Epoch  9/20] [Batch 20/85] [D loss: -1.313346] [G loss: -5.401327]\n",
            "[Epoch  9/20] [Batch 25/85] [D loss: -1.090761] [G loss: -4.702975]\n",
            "[Epoch  9/20] [Batch 30/85] [D loss: -1.449708] [G loss: -4.190205]\n",
            "[Epoch  9/20] [Batch 35/85] [D loss: -1.264130] [G loss: -4.063905]\n",
            "[Epoch  9/20] [Batch 40/85] [D loss: -0.969691] [G loss: -4.935841]\n",
            "[Epoch  9/20] [Batch 45/85] [D loss: -1.123512] [G loss: -5.082852]\n",
            "[Epoch  9/20] [Batch 50/85] [D loss: -0.940011] [G loss: -5.251231]\n",
            "[Epoch  9/20] [Batch 55/85] [D loss: -1.297162] [G loss: -5.840400]\n",
            "[Epoch  9/20] [Batch 60/85] [D loss: -0.886389] [G loss: -7.069354]\n",
            "[Epoch  9/20] [Batch 65/85] [D loss: -0.856171] [G loss: -8.332014]\n",
            "[Epoch  9/20] [Batch 70/85] [D loss: -0.833891] [G loss: -8.849070]\n",
            "[Epoch  9/20] [Batch 75/85] [D loss: -0.872315] [G loss: -9.035059]\n",
            "[Epoch  9/20] [Batch 80/85] [D loss: -0.810949] [G loss: -9.000610]\n",
            "[Epoch 10/20] [Batch  0/85] [D loss: -0.845721] [G loss: -10.074327]\n",
            "[Epoch 10/20] [Batch  5/85] [D loss: -0.719709] [G loss: -9.460436]\n",
            "[Epoch 10/20] [Batch 10/85] [D loss: -0.834485] [G loss: -10.932113]\n",
            "[Epoch 10/20] [Batch 15/85] [D loss: -0.810620] [G loss: -10.927898]\n",
            "[Epoch 10/20] [Batch 20/85] [D loss: -0.883030] [G loss: -9.519631]\n",
            "[Epoch 10/20] [Batch 25/85] [D loss: -1.398840] [G loss: -8.739249]\n",
            "[Epoch 10/20] [Batch 30/85] [D loss: -0.866698] [G loss: -8.856039]\n",
            "[Epoch 10/20] [Batch 35/85] [D loss: -0.973596] [G loss: -8.645926]\n",
            "[Epoch 10/20] [Batch 40/85] [D loss: -0.773205] [G loss: -8.125085]\n",
            "[Epoch 10/20] [Batch 45/85] [D loss: -0.848331] [G loss: -8.451492]\n",
            "[Epoch 10/20] [Batch 50/85] [D loss: -1.002555] [G loss: -7.758240]\n",
            "[Epoch 10/20] [Batch 55/85] [D loss: -1.014139] [G loss: -7.953525]\n",
            "[Epoch 10/20] [Batch 60/85] [D loss: -0.387546] [G loss: -7.619963]\n",
            "[Epoch 10/20] [Batch 65/85] [D loss: -0.775769] [G loss: -7.908228]\n",
            "[Epoch 10/20] [Batch 70/85] [D loss: -0.673134] [G loss: -7.118248]\n",
            "[Epoch 10/20] [Batch 75/85] [D loss: -1.129844] [G loss: -7.832930]\n",
            "[Epoch 10/20] [Batch 80/85] [D loss: -1.068536] [G loss: -7.231675]\n",
            "[Epoch 11/20] [Batch  0/85] [D loss: -0.872894] [G loss: -7.114578]\n",
            "[Epoch 11/20] [Batch  5/85] [D loss: -1.038977] [G loss: -6.551439]\n",
            "[Epoch 11/20] [Batch 10/85] [D loss: -1.249234] [G loss: -7.053665]\n",
            "[Epoch 11/20] [Batch 15/85] [D loss: -1.193024] [G loss: -6.608973]\n",
            "[Epoch 11/20] [Batch 20/85] [D loss: -1.046227] [G loss: -6.076267]\n",
            "[Epoch 11/20] [Batch 25/85] [D loss: -1.567557] [G loss: -4.841773]\n",
            "[Epoch 11/20] [Batch 30/85] [D loss: -0.867478] [G loss: -5.330238]\n",
            "[Epoch 11/20] [Batch 35/85] [D loss: -1.060267] [G loss: -6.484311]\n",
            "[Epoch 11/20] [Batch 40/85] [D loss: -0.978195] [G loss: -6.000597]\n",
            "[Epoch 11/20] [Batch 45/85] [D loss: -0.893273] [G loss: -4.002882]\n",
            "[Epoch 11/20] [Batch 50/85] [D loss: -1.444498] [G loss: -2.393653]\n",
            "[Epoch 11/20] [Batch 55/85] [D loss: -0.537367] [G loss: -3.046751]\n",
            "[Epoch 11/20] [Batch 60/85] [D loss: -0.730620] [G loss: -4.888647]\n",
            "[Epoch 11/20] [Batch 65/85] [D loss: -1.154517] [G loss: -6.747654]\n",
            "[Epoch 11/20] [Batch 70/85] [D loss: -0.744412] [G loss: -7.389639]\n",
            "[Epoch 11/20] [Batch 75/85] [D loss: -0.649922] [G loss: -8.781105]\n",
            "[Epoch 11/20] [Batch 80/85] [D loss: -0.634984] [G loss: -8.067436]\n",
            "[Epoch 12/20] [Batch  0/85] [D loss: -0.301750] [G loss: -8.583174]\n",
            "[Epoch 12/20] [Batch  5/85] [D loss: -0.593968] [G loss: -8.441456]\n",
            "[Epoch 12/20] [Batch 10/85] [D loss: -0.786098] [G loss: -9.057317]\n",
            "[Epoch 12/20] [Batch 15/85] [D loss: -0.409643] [G loss: -9.683695]\n",
            "[Epoch 12/20] [Batch 20/85] [D loss: -0.678714] [G loss: -9.706831]\n",
            "[Epoch 12/20] [Batch 25/85] [D loss: -0.634325] [G loss: -9.321310]\n",
            "[Epoch 12/20] [Batch 30/85] [D loss: -0.617970] [G loss: -9.733421]\n",
            "[Epoch 12/20] [Batch 35/85] [D loss: -0.730445] [G loss: -10.227386]\n",
            "[Epoch 12/20] [Batch 40/85] [D loss: -0.467548] [G loss: -9.959442]\n",
            "[Epoch 12/20] [Batch 45/85] [D loss: -0.587903] [G loss: -10.025677]\n",
            "[Epoch 12/20] [Batch 50/85] [D loss: -0.580716] [G loss: -9.958348]\n",
            "[Epoch 12/20] [Batch 55/85] [D loss: -0.429683] [G loss: -9.842546]\n",
            "[Epoch 12/20] [Batch 60/85] [D loss: -0.611999] [G loss: -9.828098]\n",
            "[Epoch 12/20] [Batch 65/85] [D loss: -0.665699] [G loss: -9.186267]\n",
            "[Epoch 12/20] [Batch 70/85] [D loss: -0.503638] [G loss: -9.121593]\n",
            "[Epoch 12/20] [Batch 75/85] [D loss: -0.600274] [G loss: -8.895739]\n",
            "[Epoch 12/20] [Batch 80/85] [D loss: -0.567561] [G loss: -9.020320]\n",
            "[Epoch 13/20] [Batch  0/85] [D loss: -0.624998] [G loss: -8.891058]\n",
            "[Epoch 13/20] [Batch  5/85] [D loss: -0.553498] [G loss: -9.028408]\n",
            "[Epoch 13/20] [Batch 10/85] [D loss: -0.671364] [G loss: -8.922937]\n",
            "[Epoch 13/20] [Batch 15/85] [D loss: -0.657688] [G loss: -8.589375]\n",
            "[Epoch 13/20] [Batch 20/85] [D loss: -0.665715] [G loss: -8.489298]\n",
            "[Epoch 13/20] [Batch 25/85] [D loss: -0.451934] [G loss: -8.262075]\n",
            "[Epoch 13/20] [Batch 30/85] [D loss: -0.665124] [G loss: -8.295160]\n",
            "[Epoch 13/20] [Batch 35/85] [D loss: -0.522410] [G loss: -8.007728]\n",
            "[Epoch 13/20] [Batch 40/85] [D loss: -0.897011] [G loss: -7.970485]\n",
            "[Epoch 13/20] [Batch 45/85] [D loss: -0.524648] [G loss: -7.648225]\n",
            "[Epoch 13/20] [Batch 50/85] [D loss: -0.914030] [G loss: -7.131642]\n",
            "[Epoch 13/20] [Batch 55/85] [D loss: -0.554835] [G loss: -7.954722]\n",
            "[Epoch 13/20] [Batch 60/85] [D loss: -0.596406] [G loss: -8.713776]\n",
            "[Epoch 13/20] [Batch 65/85] [D loss: -0.584123] [G loss: -9.073369]\n",
            "[Epoch 13/20] [Batch 70/85] [D loss: -0.807802] [G loss: -8.513503]\n",
            "[Epoch 13/20] [Batch 75/85] [D loss: -0.500129] [G loss: -7.232491]\n",
            "[Epoch 13/20] [Batch 80/85] [D loss: -0.798691] [G loss: -7.664218]\n",
            "[Epoch 14/20] [Batch  0/85] [D loss: -0.739519] [G loss: -8.561761]\n",
            "[Epoch 14/20] [Batch  5/85] [D loss: -0.814466] [G loss: -8.910257]\n",
            "[Epoch 14/20] [Batch 10/85] [D loss: -0.577335] [G loss: -8.278379]\n",
            "[Epoch 14/20] [Batch 15/85] [D loss: -0.787404] [G loss: -9.432641]\n",
            "[Epoch 14/20] [Batch 20/85] [D loss: -0.655180] [G loss: -7.977932]\n",
            "[Epoch 14/20] [Batch 25/85] [D loss: -0.556131] [G loss: -9.715318]\n",
            "[Epoch 14/20] [Batch 30/85] [D loss: -0.739621] [G loss: -8.676909]\n",
            "[Epoch 14/20] [Batch 35/85] [D loss: -0.658850] [G loss: -8.121321]\n",
            "[Epoch 14/20] [Batch 40/85] [D loss: -0.586321] [G loss: -8.700095]\n",
            "[Epoch 14/20] [Batch 45/85] [D loss: -0.778453] [G loss: -8.762978]\n",
            "[Epoch 14/20] [Batch 50/85] [D loss: -0.684230] [G loss: -9.460815]\n",
            "[Epoch 14/20] [Batch 55/85] [D loss: -0.755691] [G loss: -9.068091]\n",
            "[Epoch 14/20] [Batch 60/85] [D loss: -0.333279] [G loss: -8.172912]\n",
            "[Epoch 14/20] [Batch 65/85] [D loss: -0.698927] [G loss: -7.635109]\n",
            "[Epoch 14/20] [Batch 70/85] [D loss: -0.742536] [G loss: -6.938606]\n",
            "[Epoch 14/20] [Batch 75/85] [D loss: -0.820977] [G loss: -5.899438]\n",
            "[Epoch 14/20] [Batch 80/85] [D loss: -0.721949] [G loss: -5.152508]\n",
            "[Epoch 15/20] [Batch  0/85] [D loss: -0.470098] [G loss: -5.184231]\n",
            "[Epoch 15/20] [Batch  5/85] [D loss: -0.752847] [G loss: -3.632948]\n",
            "[Epoch 15/20] [Batch 10/85] [D loss: -0.820936] [G loss: -4.097098]\n",
            "[Epoch 15/20] [Batch 15/85] [D loss: -0.884917] [G loss: -3.827037]\n",
            "[Epoch 15/20] [Batch 20/85] [D loss: -0.779598] [G loss: -4.176987]\n",
            "[Epoch 15/20] [Batch 25/85] [D loss: -0.366955] [G loss: -4.032269]\n",
            "[Epoch 15/20] [Batch 30/85] [D loss: -0.501694] [G loss: -5.058771]\n",
            "[Epoch 15/20] [Batch 35/85] [D loss: -0.905383] [G loss: -4.784276]\n",
            "[Epoch 15/20] [Batch 40/85] [D loss: -0.737821] [G loss: -5.400897]\n",
            "[Epoch 15/20] [Batch 45/85] [D loss: -0.984905] [G loss: -4.809429]\n",
            "[Epoch 15/20] [Batch 50/85] [D loss: -0.763136] [G loss: -4.647743]\n",
            "[Epoch 15/20] [Batch 55/85] [D loss: -0.647455] [G loss: -5.939059]\n",
            "[Epoch 15/20] [Batch 60/85] [D loss: -0.799078] [G loss: -5.861746]\n",
            "[Epoch 15/20] [Batch 65/85] [D loss: -0.823956] [G loss: -6.871030]\n",
            "[Epoch 15/20] [Batch 70/85] [D loss: -0.447051] [G loss: -6.159406]\n",
            "[Epoch 15/20] [Batch 75/85] [D loss: -0.957581] [G loss: -5.141630]\n",
            "[Epoch 15/20] [Batch 80/85] [D loss: -0.766061] [G loss: -3.740199]\n",
            "[Epoch 16/20] [Batch  0/85] [D loss: -0.515447] [G loss: -3.946928]\n",
            "[Epoch 16/20] [Batch  5/85] [D loss: -1.057285] [G loss: -4.387567]\n",
            "[Epoch 16/20] [Batch 10/85] [D loss: -0.974313] [G loss: -3.439528]\n",
            "[Epoch 16/20] [Batch 15/85] [D loss: -0.985334] [G loss: -4.644038]\n",
            "[Epoch 16/20] [Batch 20/85] [D loss: -1.002775] [G loss: -4.528535]\n",
            "[Epoch 16/20] [Batch 25/85] [D loss: -0.740758] [G loss: -5.601460]\n",
            "[Epoch 16/20] [Batch 30/85] [D loss: -0.929541] [G loss: -5.697662]\n",
            "[Epoch 16/20] [Batch 35/85] [D loss: -1.183527] [G loss: -5.587573]\n",
            "[Epoch 16/20] [Batch 40/85] [D loss: -0.895419] [G loss: -5.069833]\n",
            "[Epoch 16/20] [Batch 45/85] [D loss: -1.042403] [G loss: -4.620638]\n",
            "[Epoch 16/20] [Batch 50/85] [D loss: -1.458389] [G loss: -4.236538]\n",
            "[Epoch 16/20] [Batch 55/85] [D loss: -0.985557] [G loss: -4.598330]\n",
            "[Epoch 16/20] [Batch 60/85] [D loss: -1.052576] [G loss: -4.243227]\n",
            "[Epoch 16/20] [Batch 65/85] [D loss: -1.056167] [G loss: -4.909455]\n",
            "[Epoch 16/20] [Batch 70/85] [D loss: -1.245100] [G loss: -3.326821]\n",
            "[Epoch 16/20] [Batch 75/85] [D loss: -1.033918] [G loss: -3.700531]\n",
            "[Epoch 16/20] [Batch 80/85] [D loss: -0.878823] [G loss: -4.483383]\n",
            "[Epoch 17/20] [Batch  0/85] [D loss: -1.151798] [G loss: -4.375739]\n",
            "[Epoch 17/20] [Batch  5/85] [D loss: -1.174705] [G loss: -5.300577]\n",
            "[Epoch 17/20] [Batch 10/85] [D loss: -1.431310] [G loss: -4.842654]\n",
            "[Epoch 17/20] [Batch 15/85] [D loss: -1.114993] [G loss: -4.043994]\n",
            "[Epoch 17/20] [Batch 20/85] [D loss: -1.107350] [G loss: -3.606715]\n",
            "[Epoch 17/20] [Batch 25/85] [D loss: -1.197896] [G loss: -2.863914]\n",
            "[Epoch 17/20] [Batch 30/85] [D loss: -1.121796] [G loss: -3.675515]\n",
            "[Epoch 17/20] [Batch 35/85] [D loss: -1.199197] [G loss: -2.384066]\n",
            "[Epoch 17/20] [Batch 40/85] [D loss: -1.269707] [G loss: -1.665948]\n",
            "[Epoch 17/20] [Batch 45/85] [D loss: -1.265713] [G loss: -2.295764]\n",
            "[Epoch 17/20] [Batch 50/85] [D loss: -1.240239] [G loss: -3.165365]\n",
            "[Epoch 17/20] [Batch 55/85] [D loss: -1.276871] [G loss: -4.719157]\n",
            "[Epoch 17/20] [Batch 60/85] [D loss: -1.356906] [G loss: -4.807218]\n",
            "[Epoch 17/20] [Batch 65/85] [D loss: -1.164996] [G loss: -4.720661]\n",
            "[Epoch 17/20] [Batch 70/85] [D loss: -1.149725] [G loss: -3.548781]\n",
            "[Epoch 17/20] [Batch 75/85] [D loss: -1.400852] [G loss: -4.726960]\n",
            "[Epoch 17/20] [Batch 80/85] [D loss: -1.053742] [G loss: -4.396809]\n",
            "[Epoch 18/20] [Batch  0/85] [D loss: -1.342196] [G loss: -3.357318]\n",
            "[Epoch 18/20] [Batch  5/85] [D loss: -1.331719] [G loss: -4.682147]\n",
            "[Epoch 18/20] [Batch 10/85] [D loss: -1.362525] [G loss: -5.031728]\n",
            "[Epoch 18/20] [Batch 15/85] [D loss: -1.395417] [G loss: -4.932741]\n",
            "[Epoch 18/20] [Batch 20/85] [D loss: -1.430169] [G loss: -4.015060]\n",
            "[Epoch 18/20] [Batch 25/85] [D loss: -0.811222] [G loss: -3.729052]\n",
            "[Epoch 18/20] [Batch 30/85] [D loss: -1.291985] [G loss: -3.904315]\n",
            "[Epoch 18/20] [Batch 35/85] [D loss: -1.193727] [G loss: -2.783669]\n",
            "[Epoch 18/20] [Batch 40/85] [D loss: -1.089475] [G loss: -2.091540]\n",
            "[Epoch 18/20] [Batch 45/85] [D loss: -1.540864] [G loss: -1.367106]\n",
            "[Epoch 18/20] [Batch 50/85] [D loss: -1.409978] [G loss: -0.412720]\n",
            "[Epoch 18/20] [Batch 55/85] [D loss: -1.171703] [G loss: -1.284895]\n",
            "[Epoch 18/20] [Batch 60/85] [D loss: -1.345383] [G loss: -2.903648]\n",
            "[Epoch 18/20] [Batch 65/85] [D loss: -1.442535] [G loss: -3.498453]\n",
            "[Epoch 18/20] [Batch 70/85] [D loss: -1.330306] [G loss: -2.477589]\n",
            "[Epoch 18/20] [Batch 75/85] [D loss: -1.227464] [G loss: -3.231229]\n",
            "[Epoch 18/20] [Batch 80/85] [D loss: -0.811201] [G loss: -3.375034]\n",
            "[Epoch 19/20] [Batch  0/85] [D loss: -0.967536] [G loss: -3.887809]\n",
            "[Epoch 19/20] [Batch  5/85] [D loss: -1.446506] [G loss: -4.094946]\n",
            "[Epoch 19/20] [Batch 10/85] [D loss: -1.049513] [G loss: -4.089262]\n",
            "[Epoch 19/20] [Batch 15/85] [D loss: -1.136112] [G loss: -3.999576]\n",
            "[Epoch 19/20] [Batch 20/85] [D loss: -1.158247] [G loss: -5.009531]\n",
            "[Epoch 19/20] [Batch 25/85] [D loss: -1.206151] [G loss: -3.919844]\n",
            "[Epoch 19/20] [Batch 30/85] [D loss: -1.128124] [G loss: -4.226197]\n",
            "[Epoch 19/20] [Batch 35/85] [D loss: -1.155763] [G loss: -4.618774]\n",
            "[Epoch 19/20] [Batch 40/85] [D loss: -1.136970] [G loss: -3.110981]\n",
            "[Epoch 19/20] [Batch 45/85] [D loss: -1.219884] [G loss: -2.994313]\n",
            "[Epoch 19/20] [Batch 50/85] [D loss: -1.333476] [G loss: -3.125189]\n",
            "[Epoch 19/20] [Batch 55/85] [D loss: -1.253275] [G loss: -2.814878]\n",
            "[Epoch 19/20] [Batch 60/85] [D loss: -1.270848] [G loss: -2.715383]\n",
            "[Epoch 19/20] [Batch 65/85] [D loss: -0.954576] [G loss: -2.346594]\n",
            "[Epoch 19/20] [Batch 70/85] [D loss: -1.201252] [G loss: -2.926618]\n",
            "[Epoch 19/20] [Batch 75/85] [D loss: -1.085046] [G loss: -3.303092]\n",
            "[Epoch 19/20] [Batch 80/85] [D loss: -0.852928] [G loss: -3.754084]\n"
          ],
          "name": "stdout"
        }
      ]
    },
    {
      "cell_type": "markdown",
      "metadata": {
        "id": "Zh70pDMuvW4G"
      },
      "source": [
        "The fake images are saved under `f-AnoGAN/mnist/results/images`."
      ]
    },
    {
      "cell_type": "markdown",
      "metadata": {
        "id": "JMaJ4gB1UVzH"
      },
      "source": [
        "### Step: 2\n",
        "If you don't run command `train_z_encoding_izif.py` yet, please run below after Step: 1."
      ]
    },
    {
      "cell_type": "code",
      "metadata": {
        "id": "6V_MiML_PDR7",
        "colab": {
          "base_uri": "https://localhost:8080/",
          "height": 1000
        },
        "outputId": "27f23200-e5ba-4454-e7e6-8d14f6245375"
      },
      "source": [
        "!python train_encoder_izif.py --training_label 1 --seed 2 --n_epochs 20"
      ],
      "execution_count": null,
      "outputs": [
        {
          "output_type": "stream",
          "text": [
            "[Epoch  0/20] [Batch  0/85] [E loss: 0.269628]\n",
            "[Epoch  0/20] [Batch  5/85] [E loss: 0.166417]\n",
            "[Epoch  0/20] [Batch 10/85] [E loss: 0.107070]\n",
            "[Epoch  0/20] [Batch 15/85] [E loss: 0.100967]\n",
            "[Epoch  0/20] [Batch 20/85] [E loss: 0.103612]\n",
            "[Epoch  0/20] [Batch 25/85] [E loss: 0.089559]\n",
            "[Epoch  0/20] [Batch 30/85] [E loss: 0.085357]\n",
            "[Epoch  0/20] [Batch 35/85] [E loss: 0.082311]\n",
            "[Epoch  0/20] [Batch 40/85] [E loss: 0.090374]\n",
            "[Epoch  0/20] [Batch 45/85] [E loss: 0.125707]\n",
            "[Epoch  0/20] [Batch 50/85] [E loss: 0.089562]\n",
            "[Epoch  0/20] [Batch 55/85] [E loss: 0.089873]\n",
            "[Epoch  0/20] [Batch 60/85] [E loss: 0.072088]\n",
            "[Epoch  0/20] [Batch 65/85] [E loss: 0.086371]\n",
            "[Epoch  0/20] [Batch 70/85] [E loss: 0.085062]\n",
            "[Epoch  0/20] [Batch 75/85] [E loss: 0.068634]\n",
            "[Epoch  0/20] [Batch 80/85] [E loss: 0.091393]\n",
            "[Epoch  1/20] [Batch  0/85] [E loss: 0.071241]\n",
            "[Epoch  1/20] [Batch  5/85] [E loss: 0.095793]\n",
            "[Epoch  1/20] [Batch 10/85] [E loss: 0.069089]\n",
            "[Epoch  1/20] [Batch 15/85] [E loss: 0.090486]\n",
            "[Epoch  1/20] [Batch 20/85] [E loss: 0.081590]\n",
            "[Epoch  1/20] [Batch 25/85] [E loss: 0.094342]\n",
            "[Epoch  1/20] [Batch 30/85] [E loss: 0.077907]\n",
            "[Epoch  1/20] [Batch 35/85] [E loss: 0.099505]\n",
            "[Epoch  1/20] [Batch 40/85] [E loss: 0.087756]\n",
            "[Epoch  1/20] [Batch 45/85] [E loss: 0.061943]\n",
            "[Epoch  1/20] [Batch 50/85] [E loss: 0.083282]\n",
            "[Epoch  1/20] [Batch 55/85] [E loss: 0.065287]\n",
            "[Epoch  1/20] [Batch 60/85] [E loss: 0.068715]\n",
            "[Epoch  1/20] [Batch 65/85] [E loss: 0.061981]\n",
            "[Epoch  1/20] [Batch 70/85] [E loss: 0.089862]\n",
            "[Epoch  1/20] [Batch 75/85] [E loss: 0.088622]\n",
            "[Epoch  1/20] [Batch 80/85] [E loss: 0.070202]\n",
            "[Epoch  2/20] [Batch  0/85] [E loss: 0.065056]\n",
            "[Epoch  2/20] [Batch  5/85] [E loss: 0.071939]\n",
            "[Epoch  2/20] [Batch 10/85] [E loss: 0.071967]\n",
            "[Epoch  2/20] [Batch 15/85] [E loss: 0.094428]\n",
            "[Epoch  2/20] [Batch 20/85] [E loss: 0.080171]\n",
            "[Epoch  2/20] [Batch 25/85] [E loss: 0.088136]\n",
            "[Epoch  2/20] [Batch 30/85] [E loss: 0.078977]\n",
            "[Epoch  2/20] [Batch 35/85] [E loss: 0.079261]\n",
            "[Epoch  2/20] [Batch 40/85] [E loss: 0.080201]\n",
            "[Epoch  2/20] [Batch 45/85] [E loss: 0.072269]\n",
            "[Epoch  2/20] [Batch 50/85] [E loss: 0.079055]\n",
            "[Epoch  2/20] [Batch 55/85] [E loss: 0.067441]\n",
            "[Epoch  2/20] [Batch 60/85] [E loss: 0.083107]\n",
            "[Epoch  2/20] [Batch 65/85] [E loss: 0.068200]\n",
            "[Epoch  2/20] [Batch 70/85] [E loss: 0.069050]\n",
            "[Epoch  2/20] [Batch 75/85] [E loss: 0.073345]\n",
            "[Epoch  2/20] [Batch 80/85] [E loss: 0.071539]\n",
            "[Epoch  3/20] [Batch  0/85] [E loss: 0.073473]\n",
            "[Epoch  3/20] [Batch  5/85] [E loss: 0.075076]\n",
            "[Epoch  3/20] [Batch 10/85] [E loss: 0.091762]\n",
            "[Epoch  3/20] [Batch 15/85] [E loss: 0.055594]\n",
            "[Epoch  3/20] [Batch 20/85] [E loss: 0.080993]\n",
            "[Epoch  3/20] [Batch 25/85] [E loss: 0.079792]\n",
            "[Epoch  3/20] [Batch 30/85] [E loss: 0.088105]\n",
            "[Epoch  3/20] [Batch 35/85] [E loss: 0.074108]\n",
            "[Epoch  3/20] [Batch 40/85] [E loss: 0.071365]\n",
            "[Epoch  3/20] [Batch 45/85] [E loss: 0.067866]\n",
            "[Epoch  3/20] [Batch 50/85] [E loss: 0.075758]\n",
            "[Epoch  3/20] [Batch 55/85] [E loss: 0.066096]\n",
            "[Epoch  3/20] [Batch 60/85] [E loss: 0.080705]\n",
            "[Epoch  3/20] [Batch 65/85] [E loss: 0.059612]\n",
            "[Epoch  3/20] [Batch 70/85] [E loss: 0.094539]\n",
            "[Epoch  3/20] [Batch 75/85] [E loss: 0.067084]\n",
            "[Epoch  3/20] [Batch 80/85] [E loss: 0.076423]\n",
            "[Epoch  4/20] [Batch  0/85] [E loss: 0.069590]\n",
            "[Epoch  4/20] [Batch  5/85] [E loss: 0.082460]\n",
            "[Epoch  4/20] [Batch 10/85] [E loss: 0.074659]\n",
            "[Epoch  4/20] [Batch 15/85] [E loss: 0.082091]\n",
            "[Epoch  4/20] [Batch 20/85] [E loss: 0.073927]\n",
            "[Epoch  4/20] [Batch 25/85] [E loss: 0.094293]\n",
            "[Epoch  4/20] [Batch 30/85] [E loss: 0.058255]\n",
            "[Epoch  4/20] [Batch 35/85] [E loss: 0.067305]\n",
            "[Epoch  4/20] [Batch 40/85] [E loss: 0.081178]\n",
            "[Epoch  4/20] [Batch 45/85] [E loss: 0.080899]\n",
            "[Epoch  4/20] [Batch 50/85] [E loss: 0.085139]\n",
            "[Epoch  4/20] [Batch 55/85] [E loss: 0.074115]\n",
            "[Epoch  4/20] [Batch 60/85] [E loss: 0.081551]\n",
            "[Epoch  4/20] [Batch 65/85] [E loss: 0.078351]\n",
            "[Epoch  4/20] [Batch 70/85] [E loss: 0.072302]\n",
            "[Epoch  4/20] [Batch 75/85] [E loss: 0.066495]\n",
            "[Epoch  4/20] [Batch 80/85] [E loss: 0.059057]\n",
            "[Epoch  5/20] [Batch  0/85] [E loss: 0.078301]\n",
            "[Epoch  5/20] [Batch  5/85] [E loss: 0.064711]\n",
            "[Epoch  5/20] [Batch 10/85] [E loss: 0.091812]\n",
            "[Epoch  5/20] [Batch 15/85] [E loss: 0.086100]\n",
            "[Epoch  5/20] [Batch 20/85] [E loss: 0.079006]\n",
            "[Epoch  5/20] [Batch 25/85] [E loss: 0.066982]\n",
            "[Epoch  5/20] [Batch 30/85] [E loss: 0.071204]\n",
            "[Epoch  5/20] [Batch 35/85] [E loss: 0.073335]\n",
            "[Epoch  5/20] [Batch 40/85] [E loss: 0.075646]\n",
            "[Epoch  5/20] [Batch 45/85] [E loss: 0.094268]\n",
            "[Epoch  5/20] [Batch 50/85] [E loss: 0.065409]\n",
            "[Epoch  5/20] [Batch 55/85] [E loss: 0.093087]\n",
            "[Epoch  5/20] [Batch 60/85] [E loss: 0.066519]\n",
            "[Epoch  5/20] [Batch 65/85] [E loss: 0.070324]\n",
            "[Epoch  5/20] [Batch 70/85] [E loss: 0.081504]\n",
            "[Epoch  5/20] [Batch 75/85] [E loss: 0.073489]\n",
            "[Epoch  5/20] [Batch 80/85] [E loss: 0.085332]\n",
            "[Epoch  6/20] [Batch  0/85] [E loss: 0.073458]\n",
            "[Epoch  6/20] [Batch  5/85] [E loss: 0.070650]\n",
            "[Epoch  6/20] [Batch 10/85] [E loss: 0.076239]\n",
            "[Epoch  6/20] [Batch 15/85] [E loss: 0.070102]\n",
            "[Epoch  6/20] [Batch 20/85] [E loss: 0.061894]\n",
            "[Epoch  6/20] [Batch 25/85] [E loss: 0.071088]\n",
            "[Epoch  6/20] [Batch 30/85] [E loss: 0.074431]\n",
            "[Epoch  6/20] [Batch 35/85] [E loss: 0.062654]\n",
            "[Epoch  6/20] [Batch 40/85] [E loss: 0.086480]\n",
            "[Epoch  6/20] [Batch 45/85] [E loss: 0.075771]\n",
            "[Epoch  6/20] [Batch 50/85] [E loss: 0.058888]\n",
            "[Epoch  6/20] [Batch 55/85] [E loss: 0.076862]\n",
            "[Epoch  6/20] [Batch 60/85] [E loss: 0.076288]\n",
            "[Epoch  6/20] [Batch 65/85] [E loss: 0.064504]\n",
            "[Epoch  6/20] [Batch 70/85] [E loss: 0.071897]\n",
            "[Epoch  6/20] [Batch 75/85] [E loss: 0.060587]\n",
            "[Epoch  6/20] [Batch 80/85] [E loss: 0.071986]\n",
            "[Epoch  7/20] [Batch  0/85] [E loss: 0.076094]\n",
            "[Epoch  7/20] [Batch  5/85] [E loss: 0.071314]\n",
            "[Epoch  7/20] [Batch 10/85] [E loss: 0.070992]\n",
            "[Epoch  7/20] [Batch 15/85] [E loss: 0.061081]\n",
            "[Epoch  7/20] [Batch 20/85] [E loss: 0.069402]\n",
            "[Epoch  7/20] [Batch 25/85] [E loss: 0.069808]\n",
            "[Epoch  7/20] [Batch 30/85] [E loss: 0.078661]\n",
            "[Epoch  7/20] [Batch 35/85] [E loss: 0.090458]\n",
            "[Epoch  7/20] [Batch 40/85] [E loss: 0.073149]\n",
            "[Epoch  7/20] [Batch 45/85] [E loss: 0.080240]\n",
            "[Epoch  7/20] [Batch 50/85] [E loss: 0.058969]\n",
            "[Epoch  7/20] [Batch 55/85] [E loss: 0.076082]\n",
            "[Epoch  7/20] [Batch 60/85] [E loss: 0.075595]\n",
            "[Epoch  7/20] [Batch 65/85] [E loss: 0.078004]\n",
            "[Epoch  7/20] [Batch 70/85] [E loss: 0.070812]\n",
            "[Epoch  7/20] [Batch 75/85] [E loss: 0.063296]\n",
            "[Epoch  7/20] [Batch 80/85] [E loss: 0.069427]\n",
            "[Epoch  8/20] [Batch  0/85] [E loss: 0.071440]\n",
            "[Epoch  8/20] [Batch  5/85] [E loss: 0.066618]\n",
            "[Epoch  8/20] [Batch 10/85] [E loss: 0.079550]\n",
            "[Epoch  8/20] [Batch 15/85] [E loss: 0.069065]\n",
            "[Epoch  8/20] [Batch 20/85] [E loss: 0.076085]\n",
            "[Epoch  8/20] [Batch 25/85] [E loss: 0.082503]\n",
            "[Epoch  8/20] [Batch 30/85] [E loss: 0.084840]\n",
            "[Epoch  8/20] [Batch 35/85] [E loss: 0.068626]\n",
            "[Epoch  8/20] [Batch 40/85] [E loss: 0.082234]\n",
            "[Epoch  8/20] [Batch 45/85] [E loss: 0.055820]\n",
            "[Epoch  8/20] [Batch 50/85] [E loss: 0.079000]\n",
            "[Epoch  8/20] [Batch 55/85] [E loss: 0.093473]\n",
            "[Epoch  8/20] [Batch 60/85] [E loss: 0.073973]\n",
            "[Epoch  8/20] [Batch 65/85] [E loss: 0.060792]\n",
            "[Epoch  8/20] [Batch 70/85] [E loss: 0.067143]\n",
            "[Epoch  8/20] [Batch 75/85] [E loss: 0.064281]\n",
            "[Epoch  8/20] [Batch 80/85] [E loss: 0.066826]\n",
            "[Epoch  9/20] [Batch  0/85] [E loss: 0.069247]\n",
            "[Epoch  9/20] [Batch  5/85] [E loss: 0.100460]\n",
            "[Epoch  9/20] [Batch 10/85] [E loss: 0.060349]\n",
            "[Epoch  9/20] [Batch 15/85] [E loss: 0.059222]\n",
            "[Epoch  9/20] [Batch 20/85] [E loss: 0.066298]\n",
            "[Epoch  9/20] [Batch 25/85] [E loss: 0.068340]\n",
            "[Epoch  9/20] [Batch 30/85] [E loss: 0.068722]\n",
            "[Epoch  9/20] [Batch 35/85] [E loss: 0.071759]\n",
            "[Epoch  9/20] [Batch 40/85] [E loss: 0.053948]\n",
            "[Epoch  9/20] [Batch 45/85] [E loss: 0.069427]\n",
            "[Epoch  9/20] [Batch 50/85] [E loss: 0.082077]\n",
            "[Epoch  9/20] [Batch 55/85] [E loss: 0.071960]\n",
            "[Epoch  9/20] [Batch 60/85] [E loss: 0.067625]\n",
            "[Epoch  9/20] [Batch 65/85] [E loss: 0.069413]\n",
            "[Epoch  9/20] [Batch 70/85] [E loss: 0.053627]\n",
            "[Epoch  9/20] [Batch 75/85] [E loss: 0.066337]\n",
            "[Epoch  9/20] [Batch 80/85] [E loss: 0.082062]\n",
            "[Epoch 10/20] [Batch  0/85] [E loss: 0.077573]\n",
            "[Epoch 10/20] [Batch  5/85] [E loss: 0.081545]\n",
            "[Epoch 10/20] [Batch 10/85] [E loss: 0.063919]\n",
            "[Epoch 10/20] [Batch 15/85] [E loss: 0.073544]\n",
            "[Epoch 10/20] [Batch 20/85] [E loss: 0.068402]\n",
            "[Epoch 10/20] [Batch 25/85] [E loss: 0.064496]\n",
            "[Epoch 10/20] [Batch 30/85] [E loss: 0.080166]\n",
            "[Epoch 10/20] [Batch 35/85] [E loss: 0.073829]\n",
            "[Epoch 10/20] [Batch 40/85] [E loss: 0.072243]\n",
            "[Epoch 10/20] [Batch 45/85] [E loss: 0.066332]\n",
            "[Epoch 10/20] [Batch 50/85] [E loss: 0.075094]\n",
            "[Epoch 10/20] [Batch 55/85] [E loss: 0.078065]\n",
            "[Epoch 10/20] [Batch 60/85] [E loss: 0.069043]\n",
            "[Epoch 10/20] [Batch 65/85] [E loss: 0.057282]\n",
            "[Epoch 10/20] [Batch 70/85] [E loss: 0.079727]\n",
            "[Epoch 10/20] [Batch 75/85] [E loss: 0.056371]\n",
            "[Epoch 10/20] [Batch 80/85] [E loss: 0.063962]\n",
            "[Epoch 11/20] [Batch  0/85] [E loss: 0.078241]\n",
            "[Epoch 11/20] [Batch  5/85] [E loss: 0.076277]\n",
            "[Epoch 11/20] [Batch 10/85] [E loss: 0.076192]\n",
            "[Epoch 11/20] [Batch 15/85] [E loss: 0.071937]\n",
            "[Epoch 11/20] [Batch 20/85] [E loss: 0.064362]\n",
            "[Epoch 11/20] [Batch 25/85] [E loss: 0.064502]\n",
            "[Epoch 11/20] [Batch 30/85] [E loss: 0.074964]\n",
            "[Epoch 11/20] [Batch 35/85] [E loss: 0.065733]\n",
            "[Epoch 11/20] [Batch 40/85] [E loss: 0.060393]\n",
            "[Epoch 11/20] [Batch 45/85] [E loss: 0.068188]\n",
            "[Epoch 11/20] [Batch 50/85] [E loss: 0.076695]\n",
            "[Epoch 11/20] [Batch 55/85] [E loss: 0.078309]\n",
            "[Epoch 11/20] [Batch 60/85] [E loss: 0.074086]\n",
            "[Epoch 11/20] [Batch 65/85] [E loss: 0.083955]\n",
            "[Epoch 11/20] [Batch 70/85] [E loss: 0.077203]\n",
            "[Epoch 11/20] [Batch 75/85] [E loss: 0.067786]\n",
            "[Epoch 11/20] [Batch 80/85] [E loss: 0.065525]\n",
            "[Epoch 12/20] [Batch  0/85] [E loss: 0.060198]\n",
            "[Epoch 12/20] [Batch  5/85] [E loss: 0.081991]\n",
            "[Epoch 12/20] [Batch 10/85] [E loss: 0.078174]\n",
            "[Epoch 12/20] [Batch 15/85] [E loss: 0.062965]\n",
            "[Epoch 12/20] [Batch 20/85] [E loss: 0.091947]\n",
            "[Epoch 12/20] [Batch 25/85] [E loss: 0.072341]\n",
            "[Epoch 12/20] [Batch 30/85] [E loss: 0.068395]\n",
            "[Epoch 12/20] [Batch 35/85] [E loss: 0.065514]\n",
            "[Epoch 12/20] [Batch 40/85] [E loss: 0.068172]\n",
            "[Epoch 12/20] [Batch 45/85] [E loss: 0.063033]\n",
            "[Epoch 12/20] [Batch 50/85] [E loss: 0.056244]\n",
            "[Epoch 12/20] [Batch 55/85] [E loss: 0.065262]\n",
            "[Epoch 12/20] [Batch 60/85] [E loss: 0.061218]\n",
            "[Epoch 12/20] [Batch 65/85] [E loss: 0.060438]\n",
            "[Epoch 12/20] [Batch 70/85] [E loss: 0.085413]\n",
            "[Epoch 12/20] [Batch 75/85] [E loss: 0.087596]\n",
            "[Epoch 12/20] [Batch 80/85] [E loss: 0.075456]\n",
            "[Epoch 13/20] [Batch  0/85] [E loss: 0.063860]\n",
            "[Epoch 13/20] [Batch  5/85] [E loss: 0.091123]\n",
            "[Epoch 13/20] [Batch 10/85] [E loss: 0.072798]\n",
            "[Epoch 13/20] [Batch 15/85] [E loss: 0.063289]\n",
            "[Epoch 13/20] [Batch 20/85] [E loss: 0.062488]\n",
            "[Epoch 13/20] [Batch 25/85] [E loss: 0.069385]\n",
            "[Epoch 13/20] [Batch 30/85] [E loss: 0.071503]\n",
            "[Epoch 13/20] [Batch 35/85] [E loss: 0.070001]\n",
            "[Epoch 13/20] [Batch 40/85] [E loss: 0.062635]\n",
            "[Epoch 13/20] [Batch 45/85] [E loss: 0.062595]\n",
            "[Epoch 13/20] [Batch 50/85] [E loss: 0.060544]\n",
            "[Epoch 13/20] [Batch 55/85] [E loss: 0.083773]\n",
            "[Epoch 13/20] [Batch 60/85] [E loss: 0.067365]\n",
            "[Epoch 13/20] [Batch 65/85] [E loss: 0.071647]\n",
            "[Epoch 13/20] [Batch 70/85] [E loss: 0.071325]\n",
            "[Epoch 13/20] [Batch 75/85] [E loss: 0.089032]\n",
            "[Epoch 13/20] [Batch 80/85] [E loss: 0.063923]\n",
            "[Epoch 14/20] [Batch  0/85] [E loss: 0.084819]\n",
            "[Epoch 14/20] [Batch  5/85] [E loss: 0.077708]\n",
            "[Epoch 14/20] [Batch 10/85] [E loss: 0.068569]\n",
            "[Epoch 14/20] [Batch 15/85] [E loss: 0.077536]\n",
            "[Epoch 14/20] [Batch 20/85] [E loss: 0.064949]\n",
            "[Epoch 14/20] [Batch 25/85] [E loss: 0.073379]\n",
            "[Epoch 14/20] [Batch 30/85] [E loss: 0.080480]\n",
            "[Epoch 14/20] [Batch 35/85] [E loss: 0.085337]\n",
            "[Epoch 14/20] [Batch 40/85] [E loss: 0.067154]\n",
            "[Epoch 14/20] [Batch 45/85] [E loss: 0.064852]\n",
            "[Epoch 14/20] [Batch 50/85] [E loss: 0.064094]\n",
            "[Epoch 14/20] [Batch 55/85] [E loss: 0.061748]\n",
            "[Epoch 14/20] [Batch 60/85] [E loss: 0.070397]\n",
            "[Epoch 14/20] [Batch 65/85] [E loss: 0.063005]\n",
            "[Epoch 14/20] [Batch 70/85] [E loss: 0.067923]\n",
            "[Epoch 14/20] [Batch 75/85] [E loss: 0.077570]\n",
            "[Epoch 14/20] [Batch 80/85] [E loss: 0.081638]\n",
            "[Epoch 15/20] [Batch  0/85] [E loss: 0.079997]\n",
            "[Epoch 15/20] [Batch  5/85] [E loss: 0.064323]\n",
            "[Epoch 15/20] [Batch 10/85] [E loss: 0.069557]\n",
            "[Epoch 15/20] [Batch 15/85] [E loss: 0.058439]\n",
            "[Epoch 15/20] [Batch 20/85] [E loss: 0.056831]\n",
            "[Epoch 15/20] [Batch 25/85] [E loss: 0.060218]\n",
            "[Epoch 15/20] [Batch 30/85] [E loss: 0.083280]\n",
            "[Epoch 15/20] [Batch 35/85] [E loss: 0.065668]\n",
            "[Epoch 15/20] [Batch 40/85] [E loss: 0.071470]\n",
            "[Epoch 15/20] [Batch 45/85] [E loss: 0.068096]\n",
            "[Epoch 15/20] [Batch 50/85] [E loss: 0.072829]\n",
            "[Epoch 15/20] [Batch 55/85] [E loss: 0.072476]\n",
            "[Epoch 15/20] [Batch 60/85] [E loss: 0.064576]\n",
            "[Epoch 15/20] [Batch 65/85] [E loss: 0.080674]\n",
            "[Epoch 15/20] [Batch 70/85] [E loss: 0.064189]\n",
            "[Epoch 15/20] [Batch 75/85] [E loss: 0.070183]\n",
            "[Epoch 15/20] [Batch 80/85] [E loss: 0.069607]\n",
            "[Epoch 16/20] [Batch  0/85] [E loss: 0.060819]\n",
            "[Epoch 16/20] [Batch  5/85] [E loss: 0.068208]\n",
            "[Epoch 16/20] [Batch 10/85] [E loss: 0.073465]\n",
            "[Epoch 16/20] [Batch 15/85] [E loss: 0.080741]\n",
            "[Epoch 16/20] [Batch 20/85] [E loss: 0.053921]\n",
            "[Epoch 16/20] [Batch 25/85] [E loss: 0.074552]\n",
            "[Epoch 16/20] [Batch 30/85] [E loss: 0.063960]\n",
            "[Epoch 16/20] [Batch 35/85] [E loss: 0.066481]\n",
            "[Epoch 16/20] [Batch 40/85] [E loss: 0.059261]\n",
            "[Epoch 16/20] [Batch 45/85] [E loss: 0.075841]\n",
            "[Epoch 16/20] [Batch 50/85] [E loss: 0.061864]\n",
            "[Epoch 16/20] [Batch 55/85] [E loss: 0.062175]\n",
            "[Epoch 16/20] [Batch 60/85] [E loss: 0.071649]\n",
            "[Epoch 16/20] [Batch 65/85] [E loss: 0.081270]\n",
            "[Epoch 16/20] [Batch 70/85] [E loss: 0.083945]\n",
            "[Epoch 16/20] [Batch 75/85] [E loss: 0.067747]\n",
            "[Epoch 16/20] [Batch 80/85] [E loss: 0.073771]\n",
            "[Epoch 17/20] [Batch  0/85] [E loss: 0.064883]\n",
            "[Epoch 17/20] [Batch  5/85] [E loss: 0.059702]\n",
            "[Epoch 17/20] [Batch 10/85] [E loss: 0.067007]\n",
            "[Epoch 17/20] [Batch 15/85] [E loss: 0.073963]\n",
            "[Epoch 17/20] [Batch 20/85] [E loss: 0.077469]\n",
            "[Epoch 17/20] [Batch 25/85] [E loss: 0.066584]\n",
            "[Epoch 17/20] [Batch 30/85] [E loss: 0.057909]\n",
            "[Epoch 17/20] [Batch 35/85] [E loss: 0.076248]\n",
            "[Epoch 17/20] [Batch 40/85] [E loss: 0.066991]\n",
            "[Epoch 17/20] [Batch 45/85] [E loss: 0.069727]\n",
            "[Epoch 17/20] [Batch 50/85] [E loss: 0.060187]\n",
            "[Epoch 17/20] [Batch 55/85] [E loss: 0.059795]\n",
            "[Epoch 17/20] [Batch 60/85] [E loss: 0.059189]\n",
            "[Epoch 17/20] [Batch 65/85] [E loss: 0.062307]\n",
            "[Epoch 17/20] [Batch 70/85] [E loss: 0.068284]\n",
            "[Epoch 17/20] [Batch 75/85] [E loss: 0.081339]\n",
            "[Epoch 17/20] [Batch 80/85] [E loss: 0.063740]\n",
            "[Epoch 18/20] [Batch  0/85] [E loss: 0.063611]\n",
            "[Epoch 18/20] [Batch  5/85] [E loss: 0.059757]\n",
            "[Epoch 18/20] [Batch 10/85] [E loss: 0.062628]\n",
            "[Epoch 18/20] [Batch 15/85] [E loss: 0.062894]\n",
            "[Epoch 18/20] [Batch 20/85] [E loss: 0.060917]\n",
            "[Epoch 18/20] [Batch 25/85] [E loss: 0.062230]\n",
            "[Epoch 18/20] [Batch 30/85] [E loss: 0.071788]\n",
            "[Epoch 18/20] [Batch 35/85] [E loss: 0.070488]\n",
            "[Epoch 18/20] [Batch 40/85] [E loss: 0.064235]\n",
            "[Epoch 18/20] [Batch 45/85] [E loss: 0.068466]\n",
            "[Epoch 18/20] [Batch 50/85] [E loss: 0.064323]\n",
            "[Epoch 18/20] [Batch 55/85] [E loss: 0.063839]\n",
            "[Epoch 18/20] [Batch 60/85] [E loss: 0.070665]\n",
            "[Epoch 18/20] [Batch 65/85] [E loss: 0.080311]\n",
            "[Epoch 18/20] [Batch 70/85] [E loss: 0.056260]\n",
            "[Epoch 18/20] [Batch 75/85] [E loss: 0.068602]\n",
            "[Epoch 18/20] [Batch 80/85] [E loss: 0.078414]\n",
            "[Epoch 19/20] [Batch  0/85] [E loss: 0.067138]\n",
            "[Epoch 19/20] [Batch  5/85] [E loss: 0.061681]\n",
            "[Epoch 19/20] [Batch 10/85] [E loss: 0.069320]\n",
            "[Epoch 19/20] [Batch 15/85] [E loss: 0.060336]\n",
            "[Epoch 19/20] [Batch 20/85] [E loss: 0.062168]\n",
            "[Epoch 19/20] [Batch 25/85] [E loss: 0.067991]\n",
            "[Epoch 19/20] [Batch 30/85] [E loss: 0.058875]\n",
            "[Epoch 19/20] [Batch 35/85] [E loss: 0.079911]\n",
            "[Epoch 19/20] [Batch 40/85] [E loss: 0.079932]\n",
            "[Epoch 19/20] [Batch 45/85] [E loss: 0.062215]\n",
            "[Epoch 19/20] [Batch 50/85] [E loss: 0.060560]\n",
            "[Epoch 19/20] [Batch 55/85] [E loss: 0.076136]\n",
            "[Epoch 19/20] [Batch 60/85] [E loss: 0.069056]\n",
            "[Epoch 19/20] [Batch 65/85] [E loss: 0.057144]\n",
            "[Epoch 19/20] [Batch 70/85] [E loss: 0.068531]\n",
            "[Epoch 19/20] [Batch 75/85] [E loss: 0.064179]\n",
            "[Epoch 19/20] [Batch 80/85] [E loss: 0.059806]\n"
          ],
          "name": "stdout"
        }
      ]
    },
    {
      "cell_type": "markdown",
      "metadata": {
        "id": "gXqlzCTzv-OO"
      },
      "source": [
        "The reconfigured images are saved under `f-AnoGAN/mnist/results/images_e`."
      ]
    },
    {
      "cell_type": "markdown",
      "metadata": {
        "id": "KMH6Ex6UUceG"
      },
      "source": [
        "### Step: 3  \n",
        "If you don't run command `test_anomaly_detection.py` yet, please run below after Step: 2."
      ]
    },
    {
      "cell_type": "code",
      "metadata": {
        "id": "FWe_z02kRPB5",
        "colab": {
          "base_uri": "https://localhost:8080/",
          "height": 34
        },
        "outputId": "795ddb07-767a-4329-87db-453e42ce0a13"
      },
      "source": [
        "!python test_anomaly_detection.py --training_label 1"
      ],
      "execution_count": null,
      "outputs": [
        {
          "output_type": "stream",
          "text": [
            "100% 64607/64607 [02:28<00:00, 436.15it/s]\n"
          ],
          "name": "stdout"
        }
      ]
    },
    {
      "cell_type": "markdown",
      "metadata": {
        "id": "_6uv-z0Axw-1"
      },
      "source": [
        "Scores for anomaly detection are saved under `f-AnoGAN/mnist/results`."
      ]
    },
    {
      "cell_type": "markdown",
      "metadata": {
        "id": "0H16Qh-r8cWD"
      },
      "source": [
        "### Step: 4\n",
        "If you don't run command `save_compared_images.py `yet, please run below after Step: 2."
      ]
    },
    {
      "cell_type": "code",
      "metadata": {
        "id": "Tq6COXaB8fTw"
      },
      "source": [
        "!python save_compared_images.py --seed 4 --n_iters 0 --n_grid_lines 10"
      ],
      "execution_count": null,
      "outputs": []
    },
    {
      "cell_type": "markdown",
      "metadata": {
        "id": "g8GKv3y98ie9"
      },
      "source": [
        "Compared images are saved under `f-AnoGAN/mnist/results/images_diff`."
      ]
    },
    {
      "cell_type": "markdown",
      "metadata": {
        "id": "0b57fMtdU5A0"
      },
      "source": [
        "# Visualization\n",
        "\n",
        "Please run below after Step: 1~3."
      ]
    },
    {
      "cell_type": "code",
      "metadata": {
        "id": "dqzx_tQLSnTD"
      },
      "source": [
        "import matplotlib.pyplot as plt\n",
        "import numpy as np\n",
        "import pandas as pd\n",
        "from sklearn.metrics import roc_curve, precision_recall_curve, auc"
      ],
      "execution_count": null,
      "outputs": []
    },
    {
      "cell_type": "code",
      "metadata": {
        "id": "aKiMg3gVTmPL",
        "colab": {
          "base_uri": "https://localhost:8080/",
          "height": 419
        },
        "outputId": "410e01f9-647e-4087-af91-ae6776b50928"
      },
      "source": [
        "df = pd.read_csv(\"results/score.csv\")\n",
        "df"
      ],
      "execution_count": null,
      "outputs": [
        {
          "output_type": "execute_result",
          "data": {
            "text/html": [
              "<div>\n",
              "<style scoped>\n",
              "    .dataframe tbody tr th:only-of-type {\n",
              "        vertical-align: middle;\n",
              "    }\n",
              "\n",
              "    .dataframe tbody tr th {\n",
              "        vertical-align: top;\n",
              "    }\n",
              "\n",
              "    .dataframe thead th {\n",
              "        text-align: right;\n",
              "    }\n",
              "</style>\n",
              "<table border=\"1\" class=\"dataframe\">\n",
              "  <thead>\n",
              "    <tr style=\"text-align: right;\">\n",
              "      <th></th>\n",
              "      <th>label</th>\n",
              "      <th>img_distance</th>\n",
              "      <th>anomaly_score</th>\n",
              "      <th>z_distance</th>\n",
              "    </tr>\n",
              "  </thead>\n",
              "  <tbody>\n",
              "    <tr>\n",
              "      <th>0</th>\n",
              "      <td>1</td>\n",
              "      <td>0.072017</td>\n",
              "      <td>0.129134</td>\n",
              "      <td>0.008652</td>\n",
              "    </tr>\n",
              "    <tr>\n",
              "      <th>1</th>\n",
              "      <td>1</td>\n",
              "      <td>0.033213</td>\n",
              "      <td>0.036116</td>\n",
              "      <td>0.003864</td>\n",
              "    </tr>\n",
              "    <tr>\n",
              "      <th>2</th>\n",
              "      <td>1</td>\n",
              "      <td>0.034159</td>\n",
              "      <td>0.042097</td>\n",
              "      <td>0.028874</td>\n",
              "    </tr>\n",
              "    <tr>\n",
              "      <th>3</th>\n",
              "      <td>1</td>\n",
              "      <td>0.030439</td>\n",
              "      <td>0.035003</td>\n",
              "      <td>0.003410</td>\n",
              "    </tr>\n",
              "    <tr>\n",
              "      <th>4</th>\n",
              "      <td>1</td>\n",
              "      <td>0.067693</td>\n",
              "      <td>0.095846</td>\n",
              "      <td>0.012227</td>\n",
              "    </tr>\n",
              "    <tr>\n",
              "      <th>...</th>\n",
              "      <td>...</td>\n",
              "      <td>...</td>\n",
              "      <td>...</td>\n",
              "      <td>...</td>\n",
              "    </tr>\n",
              "    <tr>\n",
              "      <th>64602</th>\n",
              "      <td>2</td>\n",
              "      <td>0.521851</td>\n",
              "      <td>0.815865</td>\n",
              "      <td>0.779736</td>\n",
              "    </tr>\n",
              "    <tr>\n",
              "      <th>64603</th>\n",
              "      <td>3</td>\n",
              "      <td>0.482058</td>\n",
              "      <td>0.622129</td>\n",
              "      <td>0.382944</td>\n",
              "    </tr>\n",
              "    <tr>\n",
              "      <th>64604</th>\n",
              "      <td>4</td>\n",
              "      <td>0.436425</td>\n",
              "      <td>0.515557</td>\n",
              "      <td>0.188704</td>\n",
              "    </tr>\n",
              "    <tr>\n",
              "      <th>64605</th>\n",
              "      <td>5</td>\n",
              "      <td>0.376133</td>\n",
              "      <td>0.488694</td>\n",
              "      <td>0.144208</td>\n",
              "    </tr>\n",
              "    <tr>\n",
              "      <th>64606</th>\n",
              "      <td>6</td>\n",
              "      <td>0.638045</td>\n",
              "      <td>0.930252</td>\n",
              "      <td>0.156074</td>\n",
              "    </tr>\n",
              "  </tbody>\n",
              "</table>\n",
              "<p>64607 rows × 4 columns</p>\n",
              "</div>"
            ],
            "text/plain": [
              "       label  img_distance  anomaly_score  z_distance\n",
              "0          1      0.072017       0.129134    0.008652\n",
              "1          1      0.033213       0.036116    0.003864\n",
              "2          1      0.034159       0.042097    0.028874\n",
              "3          1      0.030439       0.035003    0.003410\n",
              "4          1      0.067693       0.095846    0.012227\n",
              "...      ...           ...            ...         ...\n",
              "64602      2      0.521851       0.815865    0.779736\n",
              "64603      3      0.482058       0.622129    0.382944\n",
              "64604      4      0.436425       0.515557    0.188704\n",
              "64605      5      0.376133       0.488694    0.144208\n",
              "64606      6      0.638045       0.930252    0.156074\n",
              "\n",
              "[64607 rows x 4 columns]"
            ]
          },
          "metadata": {
            "tags": []
          },
          "execution_count": 10
        }
      ]
    },
    {
      "cell_type": "code",
      "metadata": {
        "id": "KIXtNEvtTnzJ"
      },
      "source": [
        "trainig_label = 1\n",
        "labels = np.where(df[\"label\"].values == trainig_label, 0, 1)\n",
        "anomaly_score = df[\"anomaly_score\"].values\n",
        "img_distance = df[\"img_distance\"].values\n",
        "z_distance = df[\"z_distance\"].values"
      ],
      "execution_count": null,
      "outputs": []
    },
    {
      "cell_type": "code",
      "metadata": {
        "id": "f7768OktTvs1"
      },
      "source": [
        "fpr, tpr, _ = roc_curve(labels, img_distance)\n",
        "precision, recall, _ = precision_recall_curve(labels, img_distance)\n",
        "roc_auc = auc(fpr, tpr)\n",
        "pr_auc =  auc(recall, precision)"
      ],
      "execution_count": null,
      "outputs": []
    },
    {
      "cell_type": "markdown",
      "metadata": {
        "id": "zVIN1nzFVTSM"
      },
      "source": [
        "## Image-level anomaly detection accuracy evaluation"
      ]
    },
    {
      "cell_type": "code",
      "metadata": {
        "id": "TYRiFOzkTyuB",
        "colab": {
          "base_uri": "https://localhost:8080/",
          "height": 295
        },
        "outputId": "9417659e-de6e-4281-be73-1049775f56b1"
      },
      "source": [
        "plt.plot(fpr, tpr, label=f\"AUC = {roc_auc:3f}\")\n",
        "plt.plot([0, 1], [0, 1], linestyle=\"--\")\n",
        "plt.title(\"ROC-AUC\")\n",
        "plt.xlabel(\"False Positive Rate\")\n",
        "plt.ylabel(\"True Positive Rate\")\n",
        "plt.legend()\n",
        "plt.show()"
      ],
      "execution_count": null,
      "outputs": [
        {
          "output_type": "display_data",
          "data": {
            "image/png": "[encoded data removed]",
            "text/plain": [
              "<Figure size 432x288 with 1 Axes>"
            ]
          },
          "metadata": {
            "tags": [],
            "needs_background": "light"
          }
        }
      ]
    },
    {
      "cell_type": "code",
      "metadata": {
        "id": "9qFD1vDc-3-j",
        "colab": {
          "base_uri": "https://localhost:8080/",
          "height": 295
        },
        "outputId": "b677d94e-4f55-4ac9-bc71-ce88d1cdd7b0"
      },
      "source": [
        "plt.plot(recall, precision, label=f\"PR = {pr_auc:3f}\")\n",
        "plt.title(\"PR-AUC\")\n",
        "plt.xlabel(\"Recall\")\n",
        "plt.ylabel(\"Pecision\")\n",
        "plt.legend()\n",
        "plt.show()"
      ],
      "execution_count": null,
      "outputs": [
        {
          "output_type": "display_data",
          "data": {
            "image/png": "[encoded data removed]",
            "text/plain": [
              "<Figure size 432x288 with 1 Axes>"
            ]
          },
          "metadata": {
            "tags": [],
            "needs_background": "light"
          }
        }
      ]
    },
    {
      "cell_type": "markdown",
      "metadata": {
        "id": "WDVKS9VQVZeh"
      },
      "source": [
        "## Discrete distributions of anomaly scores"
      ]
    },
    {
      "cell_type": "code",
      "metadata": {
        "id": "fbNR7SnkTzcG",
        "colab": {
          "base_uri": "https://localhost:8080/",
          "height": 295
        },
        "outputId": "b3af80d5-2bea-4ee6-d611-eb037e78e53c"
      },
      "source": [
        "plt.hist([anomaly_score[labels == 0], anomaly_score[labels == 1]],\n",
        "          bins=100, density=True, stacked=True,\n",
        "          label=[\"Normal\", \"Abnormal\"])\n",
        "plt.title(\"Discrete distributions of anomaly scores\")\n",
        "plt.xlabel(\"Anomaly scores A(x)\")\n",
        "plt.ylabel(\"h\")\n",
        "plt.legend()\n",
        "plt.show()"
      ],
      "execution_count": null,
      "outputs": [
        {
          "output_type": "display_data",
          "data": {
            "image/png": "[encoded data removed]",
            "text/plain": [
              "<Figure size 432x288 with 1 Axes>"
            ]
          },
          "metadata": {
            "tags": [],
            "needs_background": "light"
          }
        }
      ]
    },
    {
      "cell_type": "markdown",
      "metadata": {
        "id": "S7v7MUD58uqa"
      },
      "source": [
        "## Compared Images"
      ]
    },
    {
      "cell_type": "code",
      "metadata": {
        "id": "5N00TJ_98qDk",
        "colab": {
          "base_uri": "https://localhost:8080/",
          "height": 319
        },
        "outputId": "0c22293e-f6ea-4c44-a29b-39db7c50da7e"
      },
      "source": [
        "from PIL import Image\n",
        "\n",
        "Image.open(\"results/images_diff/000010.png\")"
      ],
      "execution_count": null,
      "outputs": [
        {
          "output_type": "execute_result",
          "data": {
            "image/png": "[encoded data removed]",
            "text/plain": [
              "<PIL.PngImagePlugin.PngImageFile image mode=RGB size=92x302 at 0x7FDA620A4748>"
            ]
          },
          "metadata": {
            "tags": []
          },
          "execution_count": 16
        }
      ]
    }
  ]
}